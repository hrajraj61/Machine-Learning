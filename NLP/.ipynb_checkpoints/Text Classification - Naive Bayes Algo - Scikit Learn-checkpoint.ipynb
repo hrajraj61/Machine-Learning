{
 "cells": [
  {
   "cell_type": "code",
   "execution_count": 1,
   "metadata": {
    "collapsed": false
   },
   "outputs": [
    {
     "name": "stdout",
     "output_type": "stream",
     "text": [
      "['neg', 'pos']\n"
     ]
    }
   ],
   "source": [
    "import nltk\n",
    "import random\n",
    "from nltk.corpus import movie_reviews\n",
    "print([category for category in movie_reviews.categories()])\n",
    "documents=[(list(movie_reviews.words(fileid)),category) \n",
    "          for category in movie_reviews.categories()\n",
    "          for fileid in movie_reviews.fileids(category)]\n",
    "# print(*documents,sep=\"\\n\\n\")"
   ]
  },
  {
   "cell_type": "code",
   "execution_count": 2,
   "metadata": {
    "collapsed": false
   },
   "outputs": [],
   "source": [
    "random.shuffle(documents)\n"
   ]
  },
  {
   "cell_type": "code",
   "execution_count": 3,
   "metadata": {
    "collapsed": true
   },
   "outputs": [],
   "source": [
    "all_words=[w.lower() for w in movie_reviews.words()]"
   ]
  },
  {
   "cell_type": "code",
   "execution_count": 4,
   "metadata": {
    "collapsed": false
   },
   "outputs": [
    {
     "name": "stdout",
     "output_type": "stream",
     "text": [
      "253\n",
      "[(',', 77717), ('the', 76529), ('.', 65876), ('a', 38106), ('and', 35576), ('of', 34123), ('to', 31937), (\"'\", 30585), ('is', 25195), ('in', 21822)]\n"
     ]
    }
   ],
   "source": [
    "all_words=nltk.FreqDist(all_words)\n",
    "print(all_words[\"stupid\"])\n",
    "print(all_words.most_common(10))"
   ]
  },
  {
   "cell_type": "markdown",
   "metadata": {
    "collapsed": true
   },
   "source": [
    "# Converting words to Features with NLTK"
   ]
  },
  {
   "cell_type": "code",
   "execution_count": 5,
   "metadata": {
    "collapsed": false
   },
   "outputs": [],
   "source": [
    "word_features=list(all_words.keys())[:3000]\n",
    "\n",
    "def find_features(document):\n",
    "    words=set(document)\n",
    "    features={}\n",
    "    for w in word_features:\n",
    "        features[w]=(w in words)\n",
    "    return features"
   ]
  },
  {
   "cell_type": "code",
   "execution_count": 6,
   "metadata": {
    "collapsed": false
   },
   "outputs": [],
   "source": [
    "#print((find_features(movie_reviews.words('neg/cv000_29416.txt'))))"
   ]
  },
  {
   "cell_type": "code",
   "execution_count": 7,
   "metadata": {
    "collapsed": true
   },
   "outputs": [],
   "source": [
    "featuresets = [(find_features(rev), category) for (rev, category) in documents]"
   ]
  },
  {
   "cell_type": "markdown",
   "metadata": {
    "collapsed": true
   },
   "source": [
    "# Naive Bayes Classifier with NLTK"
   ]
  },
  {
   "cell_type": "code",
   "execution_count": 8,
   "metadata": {
    "collapsed": false
   },
   "outputs": [
    {
     "name": "stdout",
     "output_type": "stream",
     "text": [
      "({'advance': False, 'black': False, 'detroit': False, 'cultish': False, 'karate': False, 'monolith': False, 'improvisational': False, 'slinky': False, 'conciousness': False, 'ly': False, 'preview': False, 'gerber': False, 'ascetic': False, 'penis': False, 'standardly': False, 'tendency': False, 'speeding': False, 'energetic': False, 'erotica': False, 'vaudeville': False, 'rosenberg': False, 'settles': False, 'rancorously': False, 'itself': False, 'impressiveness': False, 'paradigms': False, 'spazio': False, 'escapee': False, 'equivalent': False, 'kombat_': False, 'unduly': False, 'aerial': False, 'steady': False, 'angular': False, 'distorts': False, 'carbon': False, 'enterprises': False, 'ripper': False, 'olin': False, 'france': False, 'reprogramming': False, 'wrestle': False, 'shah': False, 'riss': False, 'seaport': False, 'appreciation': False, 'kaneshiro': False, 'fed': False, 'esposito': False, 'kowtowing': False, '100': False, 'creation': False, 'ibanez': False, 'cabin': False, 'eating': False, 'jewish': False, 'slept': False, 'waves': False, 'fred': False, 'reversing': False, 'grow': False, 'inferno': False, 'sort': False, 'instantly': False, 'study': True, 'jabbar': False, 'paquin': False, '10s': False, 'idolising': False, 'compressed': False, 'saws': False, 'bawls': False, 'fungus': False, 's': True, 'personifies': False, 'pastels': False, 'fricking': False, 'charleton': False, 'wildfire': False, 'carrol': False, 'harrowing': False, 'outdo': False, 'noodles': False, 'cuteness': False, 'combed': False, 'greece': False, 'deprive': False, 'horrocks': False, 'ago': False, 'breakdances': False, 'upstairs': False, 'fouled': False, 'romanian': False, 'sarner': False, 'netherworld': False, 'shepard': False, '_dragon': False, 'dry': False, '2400': False, 'vanished': False, 'tediousness': False, 'egg': False, 'gwythants': False, 'uuuuuuggggggglllllllyyyyy': False, 'common': False, 'henstridge': False, 'motionlessly': False, 'poseidon': False, 'appetite': False, 'coworkers': False, 'coed': False, 'pursuing': False, '26': False, 'builders': False, 'agents': False, 'insides': False, 'astronomical': False, 'bilko': False, 'unsalveageably': False, 'carnal': False, 'flashily': False, 'calamitous': False, 'hey': False, 'lifting': False, 'afore': False, 'stares': False, 'pier': False, 'bounderby': False, 'pizazz': False, 'lowest': False, 'grossest': False, 'transpose': False, 'clothesline': False, 'child': False, 'rmd': False, 'ceasefire': False, 'alps': False, 'fabrications': False, 'antonioni': False, 'racks': False, 'tacked': False, 'rat': False, 'geekiest': False, 'ratzo': False, 'policia': False, 'bribed': False, 'jetsons': False, 'noblewoman': False, 'womanized': False, 'mcdonnough': False, 'silences': False, 'magnificient': False, 'mekum': False, 'romania': False, 'languid': False, 'coin': False, 'ect': False, 'swallowed': False, 'dominguez': False, 'infuriatingly': False, 'bites_': False, 'oreo': False, 'queens': False, 'linney': False, 'tempest': False, 'madyline': False, 'women_': False, '31st': False, 'directs': False, 'alevey': False, 'zeffirelli': False, 'keel': False, 'kops': False, 'starring': False, 'loud': False, 'outfielders': False, 'scotland': False, 'rustic': False, 'paled': False, 'kleenex': False, '00': False, 'randle': False, 'extremist': False, 'ummm': False, 'penning': False, 'convent': False, 'followed': False, 'col': False, '36th': False, 'shaud': False, 'poets': False, 'cabaret': False, 'clouseau': False, 'jeff': False, 'coli': False, 'willson': False, 'speeder': False, 'overwhelmed': False, 'chemo': False, 'factors': False, 'lair': False, 'shwarzenegger': False, 'splish': False, 'excessive': False, 'effectively': False, 'sanctioned': False, 'cellmate': False, 'prom': False, 'spiked': False, 'perceive': False, 'clemente': False, 'hundreds': False, 'interference': False, '_fisherman': False, 'haskin': False, 'mk2': False, 'spelled': False, 'cpw': False, 'venable': False, 'poe': False, 'farces': False, 'stringing': False, 'seafood': False, 'crashed': False, 'barstool': False, 'atomic': False, 'arms': False, 'supposed': False, 'deaths': False, 'themed': False, 'transvestites': False, 'england': False, 'marijunana': False, 'though': True, 'satirically': False, 'philanthropist': False, 'reaffirming': False, 'reccomend': False, 'furrowed': False, 'doe': False, 'shaving': False, 'chomp': False, 'disenchanted': False, 'attacked': False, 'aris': False, 'cobblers': False, 'handily': False, 'uninvited': False, 'asbestos': False, 'coolio': False, 'circuit': False, 'staging': False, 'sheedy': False, 'horseman': False, 'adviser': False, 'superglued': False, 'goofiest': False, 'tape': False, 'em': False, 'jailer': False, 'brent': False, 'maxime': False, 'actor': False, 'inadvertently': False, 'roommates': False, 'verdict': False, 'trivia': False, 'kusatsu': False, 'newbies': False, 'bratty': False, 'awhile': False, 'sesame': False, 'videotaping': False, 'nold': False, 'shen': False, 'objectifying': False, 'lash': False, 'cancer': False, 'dane': False, 'amtrak': False, 'tongue': False, 'bewitches': False, 'angelic': False, 'discombobulated': False, 'unarguable': False, 'zealous': False, 'springtime': False, 'bothersome': False, 'marcel': False, 'pained': False, 'reclamation': False, 'suffered': False, 'literati': False, 'swallows': False, 'wh': False, 'fearful': False, 'ancient': False, 'stuffed': False, 'colt': False, 'review': False, 'escalating': False, 'fool': False, 'kept': False, 'distinguish': False, 'reacted': False, 'channels': False, 'deadeningly': False, 'pussyfoot': False, 'saver': False, 'flutist': False, 'kirkpatrick': False, 'anya': False, 'scorecard': False, 'induction': False, 'hunky': False, 'at': True, 'biotech': False, 'roundabout': False, 'aloise': False, 'unfathomably': False, 'inversion': False, 'fs': False, 'mourn': False, 'iraqi': False, 'mocked': False, 'enmity': False, 'wando': False, 'negates': False, 'accepted': False, 'cooker': False, 'hyam': False, 'trask': False, 'retelling': False, 'indigestible': False, 'demented': False, 'superhero': False, 'rebirth': False, 'leaked': False, 'turn': False, 'eyelashes': False, 'knowledgeable': False, 'hot': False, 'dorm': False, 'howewer': False, '_la': False, 'unintelligent': False, 'wider': False, 'hodges': False, 'lawyerly': False, 'credulity': False, 'divinely': False, 'forgiven': False, 'unspeakable': False, 'prinze': False, 'sam': False, 'fbi': False, '_original_': False, 'abuses': False, 'holocaust': False, 'cartoonishly': False, 'gags': False, 'cicely': False, '_great_': False, 'kimberly': False, 'rheinhold': False, 'negin': False, 'dany': False, 'sayers': False, 'rosencrantz': False, 'undid': False, 'tradition': False, 'alteration': False, 'fringe': False, 'moffat': False, 'smartass': False, 'leonardi': False, 'porno': False, 'heightening': False, 'thirteenth': False, 'alfre': False, 'laff': False, 'purportedly': False, 'thierry': False, 'unsigned': False, 'spiritedly': False, 'exploration': False, 'intensely': False, 'feces': False, 'fatboy': False, 'omnivorous': False, 'spiritually': False, 'rags': False, 'martians': False, 'trans': False, 'sellars': False, 'mere': False, 'debated': False, 'caution': False, 'blended': False, 'sinewy': False, 'typecasting': False, 'retrieving': False, 'murkily': False, 'nerve': False, 'prompts': False, '77': False, 'transistion': False, 'mindy': False, 'populating': False, 'dejection': False, 'levis': False, 'diatribe': False, 'benches': False, 'pompano': False, 'fisted': False, 'pas': False, 'deputies': False, 'pompeii': False, 'masquerade': False, 'complication': False, 'intriguing': False, 'inserts': False, 'gattaca': False, 'objectified': False, 'vernier': False, 'dumfounded': False, 'obsesses': False, 'ronna': False, 'valiantly': False, '=====================': False, 'egotistical': False, 'beastmaster': False, 'personified': False, 'evasions': False, 'natural': False, 'botulism': False, 'sicily': False, 'jealously': False, 'twirling': False, 'bean': False, 'imprisoning': False, 'contemporary': False, 'oral': False, 'energies': False, 'zen': False, 'skirts': False, 'sisters': False, 'neurologist': False, 'assorted': False, 'hodgepodge': False, 'samuel': False, 'overdirecting': False, 'barn': False, 'swore': False, 'sues': False, 'duguay': False, 'liars': False, 'arising': False, 'sissy': False, 'bastion': False, 'psycholically': False, 'aki': False, 'credibility': False, 'unrecognizable': False, 'tangerine': False, 'enshrining': False, 'megastar': False, 'posessing': False, 'smirk': False, 'treasures': False, 'koopa': False, 'whimsical': False, 'arraigned': False, 'sweden': False, 'brought': False, 'langlet': False, 'moreover': False, 'only': True, 'cluding': False, 'wastelands': False, 'elbows': False, 'maliciously': False, 'genders': False, 'migrant': False, 'institutions': False, 'perceptions': False, 'liberals': False, 'crisp': False, 'terminal': False, 'changed': False, 'rubs': False, 'fired': False, 'mireniamu': False, 'sepia': False, 'meditate': False, 'starphoenix': False, 'supporters': False, 'cricket': False, 'simplify': False, 'placing': False, 'turbo': False, 'cryin': False, 'conquistador': False, 'plays': False, 'quivering': False, 'edna': False, 'cultist': False, 'gulp': False, '_hard_ware': False, 'koons': False, 'alferd': False, 'affirmations': False, 'snigger': False, 'carrot': False, 'loops': False, 'psychology': False, 'uplifting': False, '57': False, 'empty': False, 'luger': False, 'thrower': False, 'mistrust': False, 'clue': False, 'workmanlike': False, 'monstrous': False, 'discovery': True, 'depictions': False, 'controls': False, 'cujo': False, 'internet': True, 'catastrophic': False, 'wonderment': False, 'feverishly': False, 'hannigan': False, 'preempt': False, 'deterent': False, 'winning': False, 'spirit': False, 'whaley': False, 'cliched': False, 'seduces': False, 'hara': False, 'nolot': False, 'apologizing': False, 'chi': False, 'effective': False, 'foreboding': False, 'sponsors': True, 'garters': False, 'terrio': False, 'incarcerated': False, 'inordinate': False, 'gained': False, 'multiplex': False, 'brick': False, 'hyde': False, 'courted': False, 'shoots': False, 'hotter': False, 'bars': False, 'mcelhone': False, 'sorrow': False, 'tribe': False, 'justifiable': False, 'shread': False, 'owe': False, 'assembled': False, 'represent': False, 'consumerism': False, 'epigrams': False, 'parrots': False, 'conjunctions': False, 'scent': False, 'room': False, 'divorce': False, 'stain': False, 'generates': False, 'shelter': False, 'roof': False, 'lionize': False, 'chappelle': False, 'fiona': False, 'officer': False, 'claps': False, 'groaning': False, 'rams': False, 'disease': False, 'renowed': False, 'hander': False, 'petit': False, 'incoherence': False, 'settlers': False, 'famed': False, 'say': False, 'kelsch': False, 'settling': False, 'fumbles': False, 'ironsides': False, 'leonetti': False, 'downsized': False, 'recieve': False, 'damping': False, 'category': False, 'salome': False, 'copping': False, 'ism': False, 'zimmer': False, 'sanitarium': False, 'selick': False, 'haircut': False, 'xref': False, 'mat': False, 'zeus': False, 'crams': False, 'heaving': False, 'contests': False, 'resembled': False, 'jolie': False, 'libs': False, 'jeopardy': False, 'historians': False, 'egan': False, 'dmx': False, 'intellectual': False, 'improvisationaly': False, 'rob': False, 'gwynne': False, 'eventual': False, 'soundly': False, 'grimy': False, 'avenue': False, 'tailor': False, 'stabbin': False, 'flabbergastingly': False, 'administration': False, 'palate': False, 'jejune': False, 'gazers': False, 'duo': False, 'plumber': False, 'marveled': False, 'desertion': False, 'pringles': False, 'florence': False, 'lieh': False, 'refining': False, 'complains': False, 'drunks': False, 'renews': False, 'stealing': False, 'vapors': False, 'seeks': False, 'wheeler': False, 'claws': False, 'touters': False, 'mikael': False, 'respiratory': False, 'lashings': False, 'stirrup': False, 'skyrocket': False, 'unstoppable': False, 'teeny': False, '_boogie': False, 'should': False, 'morse': True, 'walkway': False, 'kendrick': False, 'negatives': False, 'drives': False, 'klingons': False, 'telegraph': False, 'november': False, 'heights': False, 'arthur': False, 'buzzcocks': False, 'anita': False, 'enthusiasm': False, 'pushy': False, 'recharge': False, 'mockingly': False, 'grains': False, 'fosse': False, 'dine': False, '___': False, 'elaboration': False, 'sane': False, 'safe': False, 'goldeneye': False, 'knocks': False, 'flamboyantly': False, 'mustang': False, 'day': True, 'amundsen': False, 'overcomes': False, 'sincere': False, 'pointers': False, 'voiceover': False, 'populated': False, 'aladdin': False, 'coasts': False, 'assistant': False, 'barking': False, 'unreality': False, 'moll': False, 'seemd': False, 'phones': False, 'knows': False, 'filer': False, 'voyager': False, 'seminars': False, 'dutchman': False, 'peasants': False, 'bracing': False, 'artfully': False, 'aggrivate': False, 'brisville': False, 'mindless': False, 'leboswki': False, 'musetta': False, 'optic': False, 'recognizable': True, 'kenny': False, 'avocation': False, 'awfulness': False, 'hrs': False, 'sacrilegious': False, 'odgen': False, 'numbskulls': False, 'successful': False, 'datalink': False, 'flutter': False, 'reinvents': False, 'spark': False, 'sophomoric': False, 'sharpe': False, 'guard': False, 'stomped': False, 'sociological': False, 'automation': False, 'shemp': False, 'hairstyles': False, 'spawn': False, 'malcovich': False, 'entendres': False, '2000': False, 'neville': False, 'resuscitation': False, 'oed': False, 'shrink': False, 'glickman': False, '_really_': False, 'pbs': False, 'zamm': False, 'hendra': False, 'valleys': False, 'companionship': False, 'soliloquies': False, 'eldest': False, 'annoyed': False, 'unfurls': False, 'training': False, 'scoff': False, 'nivola': False, 'unquestioned': False, 'spooky': False, 'partisanship': False, 'never': False, 'terminate': False, 'ornamental': False, 'ensign': False, 'paradiso': False, 'rose': False, 'quirkiness': False, 'excruciating': False, 'impersonated': False, 'introducing': False, 'raven': False, 'biochemist': False, 'gourmet': False, 'feuer': False, 'pleasure': False, 'painfully': False, 'happy': False, 'robbins': False, 'extraordinaire': False, 'donor': False, 'mimicing': False, 'kaaya': False, 'assures': False, 'plently': False, 'kotto': False, 'musketeers': False, 'rourke': False, 'gristly': False, 'draw': False, 'katie': False, 'hoopla': False, 'terpiece': False, 'tab': False, 'rabin': False, 'dining': False, 'burrows': False, 'yuji': False, 'disintegrate': False, 'veidt': False, 'featured': False, 'groups': False, 'mfm': False, 'nursing': False, 'toad': False, 'bigelow': False, 'concealing': False, 'rehabilitates': False, 'mattes': False, 'radmar': False, 'nightingale': False, '1989': False, 'waltzing': False, 'voicework': False, 'windsor': False, 'cushions': False, 'nicotine': False, 'emphasized': False, 'gos': False, 'smarted': False, 'occupied': False, 'homcoming': False, 'soporific': False, 'shrug': False, 'cowardice': False, 'mansion': False, 'demotion': False, 'revitalize': False, 'messy': False, 'quoting': False, 'gilled': False, 'slickster': False, 'shags': False, 'escalate': False, 'duc': False, 'marci': False, 'patronize': False, 'warwick': False, 'reticent': False, 'forming': False, 'uncommonly': False, 'outlands': False, 'concentrates': False, 'guild': False, 'xing': False, 'looms': False, 'bowed': False, 'overstuffed': False, 'recording': False, 'clifton': False, 'jobs': False, 'pontoon': False, 'dumbed': False, 'maria': False, 'merrill': False, 'persuading': False, 'wade': False, 'utilizing': False, 'colombia': False, 'appellation': False, 'didja': False, 'skies': False, 'marriageable': False, 'disabled': False, 'fix': False, 'kudrow': False, 'heeled': False, 'larisa': False, 'multimillionaire': False, 'navy': False, 'hooters': False, 'corpulent': False, 'earthworm': False, 'needing': False, 'regulations': False, 'translators': False, 'assasinate': False, 'befouled': False, 'pattern': False, 'exhausting': False, 'penelope': False, 'tanaka': False, 'pavlov': False, 'coffee': False, 'cufflinks': False, 'pedaled': False, 'kalifornia': False, 'sic': False, 'taxpayer': False, 'charlie': False, 'rid': False, 'paid': False, 'incorporated': False, 'fillmore': False, 'siegfried': False, 'lobbyists': False, 'cutsy': False, 'temptation': False, 'harassing': False, 'kennedyesque': False, 'summarized': False, 'cynicism': False, 'vendor': False, 'depressed': False, 'senator': False, 'oxygen': False, 'doubts': False, 'feed': False, 'entertained': False, 'comprehend': False, 'goers': False, 'linger': False, 'acrimonious': False, 'borealis': False, 'safely': False, 'molina': False, 'trunk': False, 'conducting': False, 'quagmire': False, 'absense': False, 'dolores': False, 'soundbite': False, 'parrot': False, 'sickens': False, 'boo': False, 'guidance': False, 'inteligence': False, 'stamps': False, 'dynamism': False, 'honks': False, 'cavemen': False, 'sleeze': False, 'bucket': False, 'countrymen': False, 'mintoro': False, 'lister': False, 'vegetable': False, 'alberta': False, 'sandstorm': False, 'talal': False, 'ruse': False, 'bemoaning': False, 'bonnier': False, 'skewering': False, 'outlining': False, 'downstairs': False, 'oily': False, 'deguerin': False, 'hittin': False, 'mcdonalds': False, 'confirm': False, 'and': True, 'shrieks': False, 'lessons': False, 'words': False, 'bolstered': False, 'egpyt': False, 'metropolitan': False, 'renewed': False, 'limburgher': False, 'bickford': False, '_polish_wedding_': False, 'leg': False, 'friskiness': False, 'marts': False, 'managers': False, 'sandals': False, 'vip': False, 'adultery': False, 'wrecked': False, 'stages': False, 'brunette': False, 'roaming': False, 'killlers': False, 'b': False, 'homework': False, 'hospitalised': False, 'luckily': False, 'accomplished': False, '50s': False, 'gilligan': False, 'postponed': False, 'turnarounds': False, 'impersonal': False, 'fundamentalist': False, 'iv': False, 'bottin': False, 'demonstrating': False, 'drinker': False, 'outs': False, 'intentions': False, 'ashly': False, 'coifs': False, 'imitate': False, 'buton': False, 'politcal': False, 'realisation': False, 'illnesses': False, 'antenna': False, 'veterinarian': False, 'ticket': False, 'restlessness': False, 'ragtag': False, 'herself': False, 'resulted': False, 'fragments': False, 'succession': False, 'animal': False, 'britney': False, 'beringer': False, 'mandell': False, 'cara': False, 'cleaners': False, 'researcher': False, 'wee': False, 'counts': False, 'humanized': False, 'paleontologist': False, 'amount': False, 'psychosis': False, 'crappiness': False, 'recovers': False, 'dwells': False, 'corruptor': False, 'knack': False, 'professions': False, 'bastardised': False, 'shalit': False, 'sparse': False, 'published': False, 'sandy': False, 'condemnation': False, 'unoriginality': False, 'picasso': False, 'lambeau': False, 'connotes': False, 'ghetto': False, 'yours': False, 'characterizing': False, 'fashioning': False, 'mustered': False, 'ridiculously': False, 'adhesive': False, 'capades': False, 'penalosa': False, 'lab': False, 'latin': False, 'childishness': False, 'shagged': False, 'lumbergh': False, 'scenarios': False, 'schlondorff': False, 'stayin': False, 'charles': False, 'wowed': False, 'took': False, 'wrist': False, 'inflections': False, 'lava': False, '779': False, 'establishment': False, 'susan': False, 'promotional': False, 'performing': False, 'dilbert': False, 'warns': False, 'stepahne': False, 'explicit': False, 'wrecking': False, 'vj': False, 'concepts': False, 'inconvenient': False, 'metaphors': False, 'predestined': False, 'pirates': False, 'flaunts': False, 'camera': False, 'gymnasium': False, 'aircraft': False, 'lanced': False, 'relaxation': False, 'lange': False, 'cyan': False, 'life_': False, 'fee': False, 'bind': False, 'pfeiffer': False, 'irrational': False, 'pursuits': False, 'abandon': False, 'oppressing': False, 'expirating': False, 'carrie': False, 'fauna': False, 'maintains': False, 'heartwrenching': False, 'equipment': False, 'ca': False, 'dissects': False, 'porn': False, 'nervous': False, 'decidedly': False, 'resolves': False, 'height': False, 'piglia': False, 'formulated': False, 'proficient': False, 'macho': False, 'fiasco': False, 'zaltar': False, 'stank': False, 'poppin': False, 'enables': False, 'totalitarian': False, '13th': False, 'tomita': False, 'reflections': False, 'overwhelm': False, 'delves': False, 'unfaithful': False, 'accurate': False, 'decks': False, 'comforts': False, 'output': False, 'carl': True, 'unless': False, 'war': False, 'enslaved': False, 'recaptured': False, 'impressionistic': False, 'thespians': False, 'propellers': False, 'stabs': False, 'regressive': False, 'coercion': False, '20th': False, 'hebrew': False, 'harris': False, 'lollipops': False, 'unintriguing': False, 'tenderness': False, 'cyr': False, 'negligent': False, 'lahore': False, 'farbissina': False, 'friday': False, 'traditional': False, 'decoration': False, 'catastrophe': False, 'strove': False, 'bresslaw': False, 'lumbers': False, 'awoken': False, 'appliance': False, 'veruca': False, 'baboon': False, 'candlewax': False, 'kato': False, 'mourned': False, 'yulin': False, 'crocodiles': False, 'scratchy': False, 'cut': False, 'busted': False, 'waltz': False, 'goriest': False, 'misteps': False, '34th': False, 'destabilizing': False, 'evers': False, 'bret': False, 'lithgow': False, 'masking': False, 'satire': False, 'buttoned': False, 'shimada': False, 'international': False, 'sooooo': False, 'culminate': False, 'franciscan': False, 'scout': False, 'fathered': False, 'defendants': False, 'panama': False, 'composers': False, 'concentrating': False, 'opposed': False, 'kasi': False, 'yowza': False, 'taguchi': False, 'freighter': False, 'lowered': False, 'spate': False, 'revive': False, 'wing': False, 'grizzly': False, 'vibrance': False, 'ebay': False, 'bounced': False, 'cassavetes': False, 'testifying': False, 'outset': False, 'giants': False, 'reminscing': False, 'krikes': False, 'dragonheart': False, 'webb': False, 'testify': False, 'raises': False, 'average': False, 'sheltering': False, 'trodden': False, 'medieval': False, 'dimensional': False, 'torry': False, 'restoration': False, 'anthropologist': False, 'locate': False, 'aaaaaah': False, 'wipes': False, 'chaz': False, 'transpired': False, 'homage': False, 'hath': False, 'mtv': False, 'potentially': False, 'cluelessness': False, 'transylvanian': False, 'boston': False, 'admission': False, 'liberating': False, 'hayley': False, 'disconnects': False, 'cacophonous': False, 'norma': False, 'bossy': False, 'pieter': False, 'kremp': False, 'indicated': False, 'conducive': False, 'technique': True, 'manufacture': False, 'dolphin': False, 'gabby': False, 'loves': False, 'perrineau': False, 'spectacles': False, 'thorne': False, 'insure': False, 'oldham': False, 'smothering': False, 'utmost': False, 'lascivious': False, 'catch': False, 'semite': False, 'muses': False, 'export': False, 'dumb': False, 'zuehlke': False, 'unnecessarily': False, 'swoops': False, 'venue': False, 'puppy': False, 'earned': False, 'reminiscent': False, 'ricci': False, 'showgirl': False, 'pecs': False, 'doli': False, 'gyrating': False, 'screenwriters': False, 'alana': False, 'plausible': False, 'warp': False, 'pelvic': False, 'gunning': False, 'conspiring': False, 'integral': False, 'vocalized': False, 'helena': False, 'marino': False, 'stateside': False, 'creepiness': False, 'ringwood': False, 'ballisitic': False, 'custom': False, 'thus': False, 'haste': False, 'classical': False, 'gamut': False, 'shoeless': False, 'legions': False, '1991': False, 'vinny': False, 'lunch': False, 'crocodile': False, 'disasterously': False, 'unbelievable': False, 'twitching': False, 'logical': False, 'bradshaw': False, 'petula': False, 'lude': False, 'overachievement': False, 'kerry': False, 'prouder': False, 'dollop': False, 'latit': False, 'blush': False, 'adele': False, 'worsening': False, 'turturro': False, 'contracts': False, 'accumulate': False, 'pleads': False, 'sikh': False, 'accentuate': False, 'milquetoast': False, 'delicious': False, 'arrrghhh': False, 'restlesness': False, 'demille': False, 'hormonally': False, 'copout': False, 'janusz': False, '106': False, 'nineteen': False, 'optimists': False, 'prosthetic': False, 'vii': False, 'trip': False, 'romancing': False, 'fabulous': False, 'directional': False, 'pans': False, 'umpteen': False, 'appetizers': False, 'remainder': False, 'grab': False, 'granting': False, 'filled': False, 'artillary': False, 'skulking': False, 'joe': False, 'terrain': False, 'drang': False, 'confusedly': False, 'outpaced': False, 'tshombe': False, 'glazer': False, 'pint': False, 'crafted': False, 'trepidations': False, 'scandal': False, 'bears': False, 'subconscience': False, 'mede': False, 'glacier': False, 'frozen': False, 'trini': False, 'solution': False, 'fete': False, 'quests': False, 'surpassing': False, 'vic': False, 'starlet': False, 'dodo': False, 'restrain': False, 'formulaisms': False, 'nyah': False, 'religios': False, 'sancho': False, 'chopped': False, 'especially': False, 'rekindle': False, 'onatopp': False, 'stallone': False, 'foodstuffs': False, 'meritorious': False, 'limon': False, 'prosecutes': False, 'grim': False, 'love': True, 'stores': False, 'strutting': False, 'schnitzler': False, 'ravel': False, 'ways': False, 'monks': False, 'cruisers': False, 'competent': False, 'haynes': False, 'successively': False, 'lasting': False, '61': False, 'loewi': False, 'astin': False, 'naturalness': False, 'programmed': False, 'greenpeace': False, 'kind': False, 'identification': False, '20s': False, 'delievered': False, 'despise': False, 'thirds': False, 'procuring': False, 'manifesto': False, 'sheffield': False, 'referring': False, 'limited': False, 'inclination': False, 'lunes': False, 'reviewer': False, 'brothels': False, 's_big_score': False, 'peons': False, 'heartland': False, 'serra': False, 'cabdriver': False, 'mcracken': False, 'compares': False, 'jaye': False, 'penciller': False, 'saintliness': False, 'pollster': False, 'twentieth': False, 'whispering': False, 'obscenity': False, 'confidant': False, 'harrier': False, 'folly': False, 'unpure': False, 'populist': False, 'morally': False, '12th': False, 'useless': False, 'orthodox': False, 'unispiring': False, 'coked': False, 'hennessey': False, 'drifting': False, 'executioners': False, 'heenan': False, 'schoolchildren': False, 'bobby': False, 'sky': False, 'lacrosse': False, 'mixes': False, 'urgayle': False, 'always': False, 'cryptic': False, 'concoct': False, 'grin': False, 'meticulously': False, 'boards': False, 'ofcs': False, 'trimmings': False, 'saunder': False, 'utters': False, 'travelogue': False, 'annaud': False, 'ki': False, 'iliff': False, 'loup': False, 'preserved': False, 'areas': False, 'romance': False, 'intend': False, 'hugged': False, 'heaed': False, 'lyricized': False, 'gentler': False, 'civic': False, 'haughtiness': False, 'gai': False, 'unhappy': False, 'ambivlaent': False, 'schwartzenegger': False, 'set': False, 'palatable': False, 'floating': False, 'lucie': False, 'bloodsucking': False, 'sour': False, 'wastes': False, 'lebanese': False, 'symmetry': False, 'deliberation': False, 'chemical': False, 'conscript': False, 'fakes': False, 'pakistani': False, 'cker': False, 'skates': False, 'disproves': False, 'summation': False, 'fischer': False, 'zorro': False, 'titta': False, 'partridge': False, 'contributes': False, 'whistles': False, 'theremin': False, 'whilst': False, 'animated': False, 'mistreated': False, 'cherokee': False, 'permission': False, 'honorary': False, 'epperson': False, 'trash': False, 'suitors': False, 'gowns': False, 'jana': False, 'misuse': False, 'leo': False, 'indicating': False, 'unexplained': False, 'uphold': False, 'mussenden': False, '35th': False, 'recurrence': False, 'raping': False, 'reached': False, 'whimpering': False, 'gunpowder': False, 'speculated': False, 'quarter': False, 'fatty': False, 'godly': False, 'decadenet': False, 'deceive': False, 'crinkled': False, 'achiever': False, 'allayah': False, 'sela': False, 'fraidy': False, 'speechless': False, 'palitaliano': False, 'revolutionary': False, 'slope': False, 'whirs': False, 'perk': False, 'tournament': False, 'captors': False, 'controllers': False, 'civility': False, 'jams': False, 'coincidence': False, 'snowbell': False, 'cyborsuit': False, 'landon': False, 'villages': False, 'smith': False, 'mascara': False, 'pretzel': False, 'cretin': False, 'shane': False, 'bewilder': False, 'rigg': False, 'misguided': False, 'kosher': False, 'grueling': False, 'repetitious': False, 'eliminated': False, 'kale': False, 'resonating': False, 'treehouse': False, 'cheeze': False, 'pointed': False, 'germany': False, 'acerbity': False, 'fingal': False, 'delicate': False, 'childish': False, 'larina': False, 'him': False, 'pencil': False, 'speak': False, 'smuggle': False, 'thinker': False, 'determines': False, 'dialog': False, 'memphis': False, 'clears': False, 'conclusion': False, 'repressive': False, 'hog': False, 'lts': False, 'electrocution': False, 'cases': False, 'ontario': False, 'encountered': False, 'chubby': False, 'winks': False, 'shipping': False, 'cables': False, 'sheikh': False, 'friedklin': False, 'unsuave': False, 'schreiber': False, 'birthday': False, 'ishibashi': False, 'bachmann': False, 'gabriela': False, 'add': True, 'bodyguards': False, 'organizes': False, 'swindlers': False, 'creations': False, 'russo': False, 'mornay': False, 'troi': False, 'mamma': False, 'deploy': False, 'seagrave': False, 'lebowski': False, 'avenging': False, 'toupee': False, 'skitters': False, 'goldthwait': False, 'zones': False, 'stong': False, 'cloying': False, 'swarmed': False, 'capably': False, 'glasnost': False, 'renaissance': False, 'guiness': False, 'then': False, 'consequence': False, 'raiment': False, 'performance': False, 'outback': False, 'blatant': False, 'engrossed': False, 'elegantly': False, 'means': False, 'niro': False, 'leash': False, 'hiccup': False, '_dragon_': False, 'bumping': False, 'julius': False, 'somalia': False, 'ob': False, 'stimulates': False, 'titties': False, 'qualities': False, 'sentimentalized': False, 'hampered': False, 'pejorative': False, 'calmer': False, 'wonsuk': False, 'terrence': False, 'antoine': False, 'hur': False, 'sexist': False, 'shortened': False, 'guitars': False, 'steele': False, 'guterman': False, 'shiny': False, 'behaviors': False, 'stormtroopers': False, 'rope': False, 'squirming': False, 'examines': False, 'gunfights': False, 'erupted': False, 'previous': False, 'myer': False, 'captive': False, 'ailing': False, 'hops': False, 'catatonia': False, 'acquitted': False, 'marginally': False, 'fiction': False, 'masterwork': False, 'sophia': False, 'moviegoing': False, 'orginal': False, 'overrated': True, 'messiest': False, 'intruding': False, 'ray': False, 'symbolizing': False, 'haig': False, 'similar': False, 'sulu': False, 'hallucinogen': False, 'mentions': False, 'osment': False, 'erickson': False, 'hawks': False, 'affiliations': False, 'mileage': False, 'sarita': False, 'awsome': False, 'olmstead': False, 'innocent': False, 'telekinetically': False, 'appeared': False, 'someday': False, 'heightened': False, 'aboslutely': False, 'scattered': False, 'replies': False, 'dreary': False, 'impolite': False, 'sharpest': False, 'shrewd': False, 'envision': False, 'sterotypically': False, 'unemployment': False, 'sonorra': False, 'cockroaches': False, 'replaceable': False, 'penitentiaries': False, 'skillfully': False, 'abuzz': False, 'chit': False, 'nonplused': False, 'montages': False, 'coop': False, 'chimps': False, 'bogie': False, 'jailed': False, 'religiously': False, 'unbelieveably': False, 'dust': False, 'warnings': False, 'horseplay': False, 'glorifying': False, 'ulee': False, 'skipper': False, 'pebble': False, 'succumb': False, 'agnieszka': False, 'questionable': False, 'bias': True, 'snatch': False, 'biggie': False, 'blades': False, 'twin': False, 'ineptitude': False, 'herman': False, 'port': False, 'experiment': False, 'suicide': False, 'straights': False, 'missy': False, 'perceiving': False, 'canoeing': False, 'aryans': False, 'hallucinatory': False, 'punctuating': False, 'stability': False, 'chicks': False, 'crush': False, 'sobel': False, 'adversely': False, 'tux': False, 'comforting': False, 'trade': False, 'explainable': False, 'repetition': False, 'moved': False, 'masters': False, 'bernsen': False, 'march': False, 'vulnerable': False, 'rivera': False, 'prevert': False, 'gashes': False, 'vanzant': False, 'fueling': False, 'gale': False, 'bottom': False, 'relegating': False, 'francis': False, 'cnn': False, 'motorbiking': False, 'svengalian': False, 'defenses': False, 'cb': False, 'behemoth': False, 'melinda': False, 'dressing': False, 'proft': False, 'backtrack': False, 'swims': False, 'hatchett': False, 'labyrinthian': False, 'beater': False, 'clacks': False, 'lifelessly': False, 'floppy': False, 'harp': False, 'luftwaffe': False, 'antonio': False, 'defenceless': False, 'lenz': False, 'duane': False, 'reminding': False, 'gestures': False, 'jai': False, 'geena': False, 'exorcist': False, 'handyman': False, 'thermians': False, 'reon': False, 'remake': False, 'stressful': False, 'harmful': False, 'kenner': False, 'ominpotence': False, 'mone': False, 'powered': False, 'dope': False, 'different': False, 'chaste': False, 'sabara': False, 'pharmaceutical': False, '_scarface_': False, 'getaway': False, 'series': False, 'lyle': False, 'entertain': False, 'wint': False, 'mcfly': False, 'intrepid': False, 'greenlight': False, 'exasperation': False, 'transpire': False, 'cystic': False, 'flakes': False, 'elgar': False, 'hawaii': False, 'prevalence': False, 'aphrodite': False, 'vertical': False, 'decay': False, 'classy': False, 'deficit': False, 'piety': False, 'demand': False, 'aloofness': False, 'frizzi': False, 'cronos': False, 'milhoan': False, 'flop': False, 'odoriferous': False, 'reigns': False, 'scams': False, 'elizondo': False, 'repressed': False, 'gifts': False, 'pogue': False, 'tornadoes': False, 'accident': False, '03': False, 'displeasing': False, 'mason': False, 'dubarry': False, 'estate': False, 'rhetorically': False, 'blunted': False, 'aristocrats': False, 'imrie': False, 'warhead': False, 'vannesa': False, 'ambassadors': False, 'penalty': False, 'arkansas': False, 'sweep': False, 'moment': False, 'frailties': False, 'unbeaten': False, 'novikov': False, 'preconception': False, 'defendant': False, 'sorossy': False, 'ba': False, 'boyle': False, 'definetly': False, 'macht': False, 'crows': False, 'smoker': False, 'ala': False, 'cinnamon': False, 'torch': False, 'setpieces': False, 'owns': False, 'voluptuous': False, 'we': False, 'deviates': False, 'colonists': False, 'washout': False, 'calibre': False, 'noirs': False, 'varden': False, 'grunt': False, 'macabre': False, 'town': False, 'presences': False, 'extraneous': False, 'sailboat': False, 'hurt': False, 'hooded': False, 'ballistic': False, 'cunning': False, 'kennesaw': False, 'melted': False, 'essence': False, 'balliol': False, 'blurb': False, 'province': False, 'strung': False, 'sciorra': False, 'broods': False, 'spacecraft': False, 'breeder': False, 'costa': False, 'hauntingly': False, 'travelling': False, 'functioned': False, 'lever': False, 'spacek': False, 'crs': False, 'alleviated': False, 'colonize': False, 'intervention': False, 'supernova': False, 'matinee': False, 'bigot': False, 'cuarsn': False, 'supplement': False, 'minghella': False, 'relinquish': False, 'affirm': False, 'clarinet': False, 'thompson': False, 'bluescreen': False, 'maura': False, 'snuggly': False, 'untold': False, 'pussy': False, 'booty': False, 'throttle': False, 'indiscernable': False, 'ongoing': False, 'sucess': False, 'sinker': False, 'armando': False, 'befriends': False, 'pitifully': False, 'elliott': False, 'cities': False, 'taped': False, 'scatological': False, 'motivational': False, 'embarassing': False, 'girth': False, 'plunging': False, 'refund': False, 'socialite': False, 'propagated': False, 'recorded': False, 'insinuations': False, 'weirdly': False, 'goddard': False, 'urgency': False, 'ashamed': False, 'tripping': False, 'wannabe': False, 'refuse': False, 'antiquated': False, 'irrefutable': False, 'toils': False, 'marky': False, 'omaha': False, 'realized': False, 'aix': False, 'architecture': False, 'petaluma': False, 'unisol': False, 'slapped': False, 'eyebrows': False, 'echelon': False, 'ufo': False, 'urbaniak': False, 'there': True, 'cheese': False, 'gotcha': False, 'signing': False, 'corporation': False, 'helium': False, 'blindly': False, 'sherilyn': False, 'rendezvous': False, 'propelling': False, 'simcha': False, 'overview': False, 'whos': False, 'interview': False, 'skirt': False, 'straightforwardness': False, 'assumes': False, 'usurper': False, 'scraping': False, 'piloted': False, 'pd': False, 'premiered': False, 'vow': False, 'ouija': False, 'rambo': False, 'gloating': False, 'living': False, 'evolved': False, 'instant': False, 'considerably': False, 'below': False, 'blacksmith': False, 'tendancies': False, 'white': False, 'rediscovering': False, 'brock': False, 'comprise': False, 'today': False, 'entity': False, 'kirstin': False, 'zero': False, 'sliminess': False, 'klutzy': False, 'snorks': False, 'exaggerates': False, 'chracters': False, 'curvier': False, 'gia': False, 'scarfers': False, 'gritted': False, 'implanting': False, 'georgia': False, 'dissertations': False, 'tells': False, 'investment': False, 'furiously': False, 'inconclusive': False, 'reinserted': False, 'amidala': False, 'douse': False, 'sales': False, 'illogical': False, 'model': False, 'weddings': False, 'positioned': False, 'rudy': False, 'lesbians': False, 'terrance': False, 'fairchild': False, 'craftily': False, 'grumpiest': False, 'blueprint': False, 'belle': False, '+': False, 'consumes': False, 'brannon': False, 'welsh': False, 'alcoholism': False, 'burping': False, '8216': False, 'imparts': False, 'satiate': False, 'pull': True, 'governer': False, 'claudia': False, 'lanier': False, 'ominously': False, 'yogi': False, 'jiving': False, 'sleepers': False, 'humanly': False, 'jugs': False, 'breathes': False, 'impunity': False, 'yuck': False, 'consequences': False, 'rebellions': False, 'profoundly': False, 'open': False, 'fires': False, 'sulka': False, 'kingpin': False, 'discovering': False, 'schmoe': False, 'director': True, 'confronted': False, 'assaulting': False, 'dime': False, 'mutilated': False, 'zelweggar': False, 'banker': False, 'driller': False, 'thrillride': False, 'computech': False, '_election': False, 'galas': False, 'astronauts': False, 'peppy': False, 'dexterity': False, 'tailspin': False, 'visjnic': False, '55': False, 'idle': False, 'quilting': False, 'plunged': False, 'specificity': False, 'nitpicks': False, 'achieved': False, 'tante': False, 'emsemble': False, 'stars': False, 'paltry': False, 'begbee': False, 'wakeup': False, 'anthropomorphized': False, 'ivins': False, 'thumping': False, 'olde': False, 'nearing': False, 'persues': False, 'corpses': False, 'incurably': False, 'pops': False, 'gord': False, 'telling': False, 'mastered': False, 'oblige': False, 'spader': False, 'lumber': False, 'addict': False, 'bullies': False, 'beart': False, 'losses': False, 'directives': False, 'logo': False, 'assasinated': False, 'legit': False, 'casablanca': False, 'greeted': False, 'easiest': False, 'cherie': False, 'stab': False, 'mib': False, 'psychotherapy': False, 'nonmembers': False, 'skilfull': False, 'begbie': False, 'informs': False, 'patriotic': False, 'nullifies': False, 'hijacked': False, 'surfs': False, 'spock': False, 'gudin': False, 'beaulieu': False, 'yellow': False, 'newland': False, 'camp': False, 'ebola': False, 'bottlecaps': False, 'song': False, 'overplay': False, 'clavell': False, 'moves': False, 'portillo': False, 'watts': False, 'investigating': False, 'unpardonable': False, 'pectorals': False, 'babies': False, 'revoltingly': False, 'allies': False, 'baddass': False, 'codpieces': False, 'casket': False, 'requisitive': False, 'nah': False, 'startling': False, 'serina': False, 'weaponesque': False, 'thier': False, 'hoggett': False, 'pummel': False, 'loft': False, 'perceived': False, 'abomination': False, 'hideous': False, 'undie': False, 'root': False, 'suspenseful': False, 'finds': True, 'enjoys': False, 'exterminate': False, 'auditions': False, 'unkrich': False, 'own': False, 'brazil': False, 'football': False, 'warlord': False, 'taste': False, 'colanised': False, 'jonn': False, 'years': False, 'airy': False, 'buddie': False, 'waterworld': False, 'trigonometry': False, 'prob': False, 'conspirators': False, 'corinthians': False, 'studies': False, 'lizard': False, 'rendell': False, 'excel': False, 'rd': False, 'thundering': False, 'vaulerble': False, 'zenith': False, 'notre': False, 'oates': False, 'dubuque': False, 'squeaky': False, 'perpetrated': False, 'enterataining': False, 'screaming': False, 'reassuring': False, 'crewman': False, 'percentages': False, 'garafolo': False, 'filtered': False, 'rambunctous': False, 'ravenscroft': False, 'smells': False, 'eyepopping': False, '1922': False, 'compadre': False, 'load': False, 'asthmatic': False, 'battle': False, 'samir': False, 'gd': False, 'implementing': False, 'fools': False, 'gladly': False, 'bladder': False, 'mistaken': False, 'droid': False, 'turvy': False, 'abortions': False, 'undergone': False, 'hesitating': False, 'headstrong': False, 'boisterous': False, 'forlani': False, 'gullible': False, 'seediness': False, 'generalization': False, 'holland': False, 'pied': False, 'hysterics': False, 'terrorizing': False, 'tires': False, 'billion': False, 'zippers': False, 'natascha': False, 'mothers': False, 'malfunctions': False, 'imperfect': False, 'lapoirie': False, 'shaping': False, 'stuffy': False, 'yong': False, 'reality': True, 'reformer': False, 'domineering': False, 'thermal': False, 'sunk': False, 'therapeutic': False, 'wallets': False, 'lips': False, 'minstrel': False, 'counterculture': False, 'worriedly': False, 'gay': False, 'nts': False, 'whopping': False, 'nil': False, 'matriarchal': False, 'jeremy': False, 'foreknowledge': False, 'nero': False, 'cybil': False, 'sums': False, 'hollander': False, 'jimmy': False, 'gunplay': False, 'diapers': False, 'pesimism': False, 'century': False, 'adlib': False, 'despises': False, 'hash': False, 'naivet': False, 'elm': False, 'danson': False, 'immeasurable': False, 'ritualistically': False, 'station': False, 'extent': False, 'bilal': False, 'fest': False, 'reduce': False, 'mathew': False, 'seann': False, 'bello': False, 'superpower': False, 'down': False, 'poirrier': False, 'affleck': False, 'accosted': False, 'lawerences': False, 'imbecile': False, 'paranoiac': False, 'mst3ked': False, 'outre': False, 'reproduce': False, 'hype': False, 'chauffeuring': False, 'associates': False, 'intimidate': False, 'posting': False, 'showing': False, 'quotas': False, 'wordly': False, 'cutesy': False, 'swashbuckling': False, 'trucks': False, 'asses': False, 'fortunate': False, 'welles': False, 'levitch': False, '@$&%': False, 'hitch': False, 'lethal': False, 'iwai': False, 'honestly': False, 'pursuit': False, 'lillianna': False, 'pathetic': False, 'element': False, 'insipidness': False, 'purposes': False, 'sect': False, 'multiplying': False, 'romps': False, 'marshall': False, 'rushmore': False, 'global': False, 'unruly': False, 'himself': True, 'gentleman': False, 'cachet': False, 'trough': False, 'blunts': False, 'sobs': False, 'greenbaum': False, 'melee': False, 'rack': False, 'wenteworth': False, 'noisily': False, 'humanize': False, 'weathers': False, 'manipulate': False, 'johnny': False, 'dwindled': False, 'bungalow': False, 'coarseness': False, 'charade': False, 'banderas': False, 'reaches': False, 'project': False, 'hysterically': False, 'cohen': False, 'ho': False, 'jabs': False, 'packed': False, 'lanky': False, 'aissa': False, 'gyllenhaal': False, '_long_': False, 'mr': False, 'arrgh': False, 'tannen': False, 'lept': False, 'unfairly': False, 'delectably': False, 'blessing': False, 'drix': False, 'cramped': False, 'forgives': False, 'radio': True, 'weaver': False, 'refinement': False, 'nihilist': False, 'giving': False, 'pimlico': False, 'substances': False, 'capital': True, 'beymer': False, 'dazed': False, 'caligula': False, 'compensation': False, 'nicknames': False, 'rainbows': False, 'spits': False, 'hub': False, 'boyfriend': False, 'fitting': False, 'horns': False, 'mumbling': False, 'rosmary': False, 'handphone': False, 'retire': False, 'tian': False, 'engage': False, 'pagniacci': False, 'rounded': False, 'jackhammer': False, 'ged': False, 'aurally': False, 'caper': False, 'rahul': False, 'woozy': False, 'sheik': False, 'busey': False, 'labeling': False, 'eva': False, 'inflicted': False, 'blackening': False, 'phony': False, 'twang': False, 'susses': False, 'loeb': False, 'fact': False, 'feats': False, 'gogh': False, 'summoned': False, 'hiding': False, 'mucus': False, 'donahue': False, 'outed': False, 'glue': False, 'arlene': False, 'daly': False, 'wanders': False, 'cinematographer': False, 'cheapens': False, 'strapped': False, 'gregson': False, 'typist': False, 'stranding': False, 'sire': False, 'rawls': False, 'flock': False, 'freeway': False, 'adore': False, 'mandala': False, 'megabytes': False, 'exams': False, 'hesitates': False, 'whammy': False, 'feudal': False, 'hacky': False, 'chung': False, 'consumer': False, 'redundant': False, 'communications': False, 'gesserit': False, 'shayne': False, 'lowe': False, 'outcast': False, 'pulls': False, 'affliction': False, 'sob': False, 'polish': False, 'trading': False, 'hide': False, 'scar': False, 'pen': False, 'wounding': False, 'receiver': False, 'loathes': False, 'raining': False, 'botches': False, 'cretaceous': False, 'salutes': False, 'fatally': False, 'cahiers': False, 'inconsistent': False, 'cyrus': False, 'owes': False, 'smell': False, 'consort': False, 'shor': False, 'overcoming': False, 'strathairn': False, 'rotary': False, 'melvon': False, 'fukienese': False, 'govenment': False, 'hopefulness': False, 'unions': False, 'primitive': False, 'golly': False, 'minutes': False, 'embraced': False, 'unkempt': False, 'leguizamo': False, 'cypher': False, 'aquinas': False, 'scarier': False, 'poled': False, 'gander': False, 'fueled': False, 'feathery': False, 'giggle': False, 'creedence': False, 'gut': False, 'masterson': False, 'superlative': False, 'schumacher': False, 'passover': False, 'prochnow': False, 'jettisoned': False, 'fishermen': False, 'treasury': False, 'petrovsky': False, 'skinheads': False, 'rosie': False, 'sonar': False, 'gulliver': False, '1600s': False, 'weren': True, 'northwest': False, 'pindar': False, 'disastrous': False, 'unsurprising': False, 'ology': False, 'machiavellian': False, 'customers': False, 'dissipates': False, 'slapstickness': False, 'collision': False, 'confides': False, 'soulmate': False, 'allegorical': False, 'abductees': False, 'costume': False, 'unwritten': False, 'mutual': False, 'secures': False, 'deduce': False, 'points': False, 'unclear': False, 'cuddly': False, '84': False, 'thickened': False, 'bandaras': False, 'neri': False, 'pfieffer': False, 'selma': False, 'publishers': False, 'limbs': False, 'guttural': False, 'stomach': False, 'counting': False, 'soled': False, 'pickles': False, 'degaule': False, 'pacha': False, 'reconstructed': False, 'debating': False, 'scorces': False, 'prefacing': False, 'condense': False, 'benigness': False, 'amazes': False, 'patrasche': False, 'mucked': False, 'bows': False, 'contrastive': False, 'antarctica': False, 'rigmarole': False, 'chet': False, 'capra': False, 'jeans': False, 'prescient': False, 'ooooh': False, 'panavision': False, 'jee': False, 'tatyana': False, 'bodacious': False, 'francesco': False, 'elicitor': False, 'flirtation': False, 'mediocre': False, 'workaday': False, 'elektra': False, 'affectionately': False, 'hap': False, 'mintues': False, 'perpretrators': False, 'correlates': False, 'puppeteering': False, 'disappear': False, 'buddhism': False, 'blackburn': False, 'cleon': False, 'mi': False, 'monopoly': False, 'ripp': False, 'dustbuster': False, 'deeds': False, 'rethinking': False, 'centennial': False, 'ticoton': False, 'piotr': False, 'rivers': False, 'surrounding': False, 'shorten': False, 'motown': False, 'profanity': False, 'elitist': False, 'interface': False, 'imam': False, 'ephrons': False, 'advocates': False, 'firefighters': False, 'homeward': False, 'louisa': False, 'falsely': False, 'telss': False, 'eery': False, 'rebaptizes': False, 'fishnets': False, 'crunchings': False, 'scented': False, 'bertolini': False, 'hobo': False, 'putrid': False, 'frailty': False, 'weeping': False, 'blurry': False, 'captivated': False, 'toto': False, 'amazonas': False, 'psychedelia': False, 'puerile': False, 'upset': False, 'zinnia': False, '2d': False, 'invincibility': False, 'florist': False, 'bunching': False, '_into_': False, 'towers': False, '2029': False, 'apology': False, 'tri': False, 'golan': False, 'improvisations': False, 'spyglass': False, 'herring': False, 'ladened': False, 'roses': False, 'renegades': False, 'choices': False, 'pervious': False, 'studebakers': False, 'horny': False, 'reversalf': False, 'refuting': False, 'bomb': False, 'yavin': False, 'shopgirl': False, 'architect': False, 'visage': False, 'brazen': False, 'unchanged': False, 'idolizes': False, 'cubicled': False, 'trekked': False, 'unfathomable': False, 'finicial': False, 'uncleanness': False, 'kahl': False, 'gar': False, 'vishnu': False, 'eponymous': False, 'devotedly': False, 'consummated': False, 'vest': False, 'unbilled': False, 'plexus': False, 'credo': False, 'exerts': False, 'niche': False, 'unconscionable': False, 'lecture': False, 'preparing': False, 'appreciating': False, 'katsulas': False, 'beneficial': False, 'bullseye': False, 'abused': False, 'daredevils': False, 'washing': False, 'deceit': False, 'evidencing': False, 'didi': False, 'bess': False, 'serious': False, 'darwin': False, 'lemay': False, 'playtone': False, 'alain': False, 'delilah': False, 'glorified': False, 'joys': False, 'dion': False, 'vegetarian': False, 'flying': False, 'sinbad': False, 'deathbed': False, 'subtly': False, 'envy': False, 'choking': False, 'motherland': False, 'hyper': False, 'pescucci': False, 'brosnon': False, 'traitor': False, 'buyers': False, 'poem': False, 'admirals': False, 'act': False, 'rosenthal': False, 'norm': False, 'mull': False, 'guideline': False, 'hitherto': False, 'incredulity': False, 'phlegmming': False, 'plate': False, 'salon': False, 'wiggles': False, 'workaholics': False, 'immaculate': False, 'hartnett': False, 'chapman': False, 'homecoming': False, 'adulterous': False, 'joadson': False, 'goof': False, 'sorcha': False, 'tenko': False, 'destruct': False, 'catered': False, 'hormones': False, 'searing': False, 'tissues': False, 'tiara': False, '70mm': False, 'impersonates': False, 'downward': False, 'muppets': False, 'botching': False, 'swaying': False, 'choosing': False, 'exorcised': False, 'ideological': False, 'flashlight': False, 'servants': False, 'hsu': False, 'xxv': False, 'underwhelmed': False, 'contacts': False, '35mm': False, 'peacably': False, 'harra': False, 'unenthusiastic': False, 'astray': False, 'deanna': False, 'theoreticians': False, 'taupin': False, 'khe': False, 'discs': False, 'mugshots': False, 'philipe': False, 'vetter': False, 'barry': False, 'wenders': False, 'mechanical': False, 'brook': False, 'toiling': False, 'proportions': False, 'speakers': False, 'overeacting': False, 'blazing': False, 'warranted': False, 'gala': False, 'reinterpretation': False, 'grocery': False, 'ney': False, 'conjure': False, 'prank': False, 'rummaging': False, 'anser': False, 'schweethaat': False, 'contest': False, 'laserdiscs': False, 'guestbook': False, 'retreating': False, 'difilippo': False, 'resemblances': False, 'annabel': False, 'sidekicks': False, 'frasier': False, 'luketic': False, 'notebook': False, 'hispanic': False, 'momsen': False, 'qualifies': False, 'luncheon': False, 'lubezki': False, 'emil': False, 'unwelcomed': False, 'pearlstein': False, 'spadowski': False, 'rediscovered': False, 'consensual': False, 'hair': False, 'commie': False, 'outpourings': False, 'immediatly': False, 'cecilia': False, 'interrelate': False, 'foolery': False, 'justin': False, 'diseases': False, 'lv': False, 'herding': False, 'separatist': False, 'keeslar': False, 'nile': False, 'commissioner': False, 'unashamedly': False, 'sundered': False, 'principles': False, 'blends': False, 'monoko': False, 'profits': False, 'busta': False, 'shostakovich': False, 'wendell': False, 'oiled': False, 'immortalizing': False, 'bosley': False, 'oppose': False, 'entombed': False, 'clare': False, 'aggravation': False, 'unmistakeable': False, 'arecibo': False, 'markings': False, 'obstructions': False, 'panthers': False, 'transcending': False, 'heimlich': False, 'hindu': False, 'expended': False, 'hadden': False, 'wittedness': False, 'zeltser': False, 'disperse': False, 'peach': False, 'explicate': False, 'seductiveness': False, 'ani': False, 'flexibly': False, 'deathcamps': False, 'downside': False, 'colonels': False, 'impregnable': False, 'aline': False, 'murnau': False, 'guises': False, '85but': False, 'boning': False, 'amfibium': False, 'salomon': False, 'tails': False, 'compositions': False, 'fork': False, 'naidu': False, 'charts': False, 'whitmore': False, 'heads': False, 'memoir': False, 'necronomicon': False, 'cattily': False, 'video': False, 'gautier': False, '2470': False, 'deformed': False, 'slump': False, 'brocade': False, 'kala': False, 'lew': False, 'idioms': False, 'renenged': False, 'tempting': False, 'pang': False, 'caucasian': False, 'oaf': False, 'beliavable': False, 'shortcoming': False, 'unabated': False, 'combating': False, 'highbrow': False, 'attila': False, 'greenfingers': False, 'assuaged': False, 'btw': False, 'ezsterhas': False, 'bulky': False, 'jfk': False, 'polson': False, 'absoloute': False, 'ahabs': False, 'vadis': False, 'marcus': False, 'amassed': False, 'gunmen': False, 'esoteric': False, 'buzzing': False, 'oingo': False, 'danilov': False, 'headlights': False, 'spar': False, 'schnook': False, 'autopsy': False, 'lunghi': False, 'fornication': False, 'chandelier': False, 'an': True, 'summon': False, 'dissected': False, 'hideko': False, 'throaty': False, '===': False, 'tightrope': False, 'steal': False, '16th': False, 'cimino': False, 'meander': False, 'intellectually': False, 'no': True, 'expanding': False, 'backpedaling': False, 'diverts': False, 'fiscally': False, 'mecca': False, 'superfreak': False, 'wheel': False, 'gascogne': False, 'huison': False, 'cong': False, 'viet': False, 'flawlessly': False, 'divorcee': False}, 'pos')\n"
     ]
    }
   ],
   "source": [
    "training_set=featuresets[:1900]\n",
    "testing_set=featuresets[1900:]\n",
    "print(training_set[0])"
   ]
  },
  {
   "cell_type": "code",
   "execution_count": 9,
   "metadata": {
    "collapsed": false
   },
   "outputs": [
    {
     "name": "stdout",
     "output_type": "stream",
     "text": [
      "Naive Bayes Algo accuracy percent 0.72\n"
     ]
    }
   ],
   "source": [
    "classifier=nltk.NaiveBayesClassifier.train(training_set)\n",
    "print(\"Naive Bayes Algo accuracy percent\", nltk.classify.accuracy(classifier,testing_set))"
   ]
  },
  {
   "cell_type": "code",
   "execution_count": 10,
   "metadata": {
    "collapsed": false
   },
   "outputs": [
    {
     "name": "stdout",
     "output_type": "stream",
     "text": [
      "Most Informative Features\n",
      "               illogical = True              neg : pos    =      9.0 : 1.0\n",
      "               uplifting = True              pos : neg    =      8.2 : 1.0\n",
      "                 studies = True              pos : neg    =      7.7 : 1.0\n",
      "                 rounded = True              pos : neg    =      7.7 : 1.0\n",
      "                   sweep = True              pos : neg    =      7.0 : 1.0\n",
      "              schumacher = True              neg : pos    =      6.6 : 1.0\n",
      "              ineptitude = True              neg : pos    =      6.3 : 1.0\n",
      "                 gunplay = True              pos : neg    =      6.3 : 1.0\n",
      "                 cunning = True              pos : neg    =      6.3 : 1.0\n",
      "               maintains = True              pos : neg    =      6.1 : 1.0\n",
      "                   jolie = True              neg : pos    =      5.8 : 1.0\n",
      "                lebowski = True              pos : neg    =      5.7 : 1.0\n",
      "                  subtly = True              pos : neg    =      5.7 : 1.0\n",
      "                pfeiffer = True              pos : neg    =      5.7 : 1.0\n",
      "                  doubts = True              pos : neg    =      5.4 : 1.0\n"
     ]
    }
   ],
   "source": [
    "classifier.show_most_informative_features(15)"
   ]
  },
  {
   "cell_type": "markdown",
   "metadata": {},
   "source": [
    "# Saving classifier with nltk using pickle"
   ]
  },
  {
   "cell_type": "code",
   "execution_count": 11,
   "metadata": {
    "collapsed": true
   },
   "outputs": [],
   "source": [
    "import pickle\n",
    "\n",
    "save_classifier=open(\"naivebayes.pickle\",\"wb\")\n",
    "pickle.dump(classifier,save_classifier)\n",
    "save_classifier.close()\n",
    "\n"
   ]
  },
  {
   "cell_type": "markdown",
   "metadata": {},
   "source": [
    "# retriving classifier"
   ]
  },
  {
   "cell_type": "code",
   "execution_count": 12,
   "metadata": {
    "collapsed": false
   },
   "outputs": [
    {
     "name": "stdout",
     "output_type": "stream",
     "text": [
      "Most Informative Features\n",
      "               illogical = True              neg : pos    =      9.0 : 1.0\n",
      "               uplifting = True              pos : neg    =      8.2 : 1.0\n",
      "                 studies = True              pos : neg    =      7.7 : 1.0\n",
      "                 rounded = True              pos : neg    =      7.7 : 1.0\n",
      "                   sweep = True              pos : neg    =      7.0 : 1.0\n",
      "              schumacher = True              neg : pos    =      6.6 : 1.0\n",
      "              ineptitude = True              neg : pos    =      6.3 : 1.0\n",
      "                 gunplay = True              pos : neg    =      6.3 : 1.0\n",
      "                 cunning = True              pos : neg    =      6.3 : 1.0\n",
      "               maintains = True              pos : neg    =      6.1 : 1.0\n",
      "                   jolie = True              neg : pos    =      5.8 : 1.0\n",
      "                lebowski = True              pos : neg    =      5.7 : 1.0\n",
      "                  subtly = True              pos : neg    =      5.7 : 1.0\n",
      "                pfeiffer = True              pos : neg    =      5.7 : 1.0\n",
      "                  doubts = True              pos : neg    =      5.4 : 1.0\n",
      "Naive Bayes Algo accuracy percent 72.0\n"
     ]
    }
   ],
   "source": [
    "classifier_f=open(\"naivebayes.pickle\",\"rb\")\n",
    "classifier=pickle.load(classifier_f)\n",
    "classifier_f.close()\n",
    "classifier.show_most_informative_features(15)\n",
    "print(\"Naive Bayes Algo accuracy percent\", 100*nltk.classify.accuracy(classifier,testing_set))"
   ]
  },
  {
   "cell_type": "markdown",
   "metadata": {},
   "source": [
    "# Scikit-Learn Sklearn with nltk"
   ]
  },
  {
   "cell_type": "code",
   "execution_count": 13,
   "metadata": {
    "collapsed": false
   },
   "outputs": [],
   "source": [
    "from nltk.classify.scikitlearn import SklearnClassifier\n",
    "from sklearn.naive_bayes import MultinomialNB,GaussianNB,BernoulliNB\n",
    "\n"
   ]
  },
  {
   "cell_type": "code",
   "execution_count": 14,
   "metadata": {
    "collapsed": false
   },
   "outputs": [
    {
     "name": "stdout",
     "output_type": "stream",
     "text": [
      "MNB_classifier accuracy percent: 73.0\n"
     ]
    }
   ],
   "source": [
    "\n",
    "MNB_classifier = SklearnClassifier(MultinomialNB())\n",
    "MNB_classifier.train(training_set)\n",
    "print(\"MNB_classifier accuracy percent:\", (nltk.classify.accuracy(MNB_classifier, testing_set))*100)\n"
   ]
  },
  {
   "cell_type": "code",
   "execution_count": 15,
   "metadata": {
    "collapsed": false
   },
   "outputs": [
    {
     "name": "stdout",
     "output_type": "stream",
     "text": [
      "BernoulliNB_classifier accuracy percent: 71.0\n"
     ]
    }
   ],
   "source": [
    "\n",
    "BernoulliNB_classifier = SklearnClassifier(BernoulliNB())\n",
    "BernoulliNB_classifier.train(training_set)\n",
    "print(\"BernoulliNB_classifier accuracy percent:\", (nltk.classify.accuracy(BernoulliNB_classifier, testing_set))*100)\n"
   ]
  },
  {
   "cell_type": "code",
   "execution_count": 16,
   "metadata": {
    "collapsed": true
   },
   "outputs": [],
   "source": [
    "from sklearn.linear_model import LogisticRegression,SGDClassifier\n",
    "from sklearn.svm import SVC, LinearSVC, NuSVC\n"
   ]
  },
  {
   "cell_type": "code",
   "execution_count": 17,
   "metadata": {
    "collapsed": false
   },
   "outputs": [
    {
     "name": "stdout",
     "output_type": "stream",
     "text": [
      "LogisticRegression_classifier accuracy percent: 74.0\n"
     ]
    }
   ],
   "source": [
    "LogisticRegression_classifier = SklearnClassifier(LogisticRegression())\n",
    "LogisticRegression_classifier.train(training_set)\n",
    "print(\"LogisticRegression_classifier accuracy percent:\", (nltk.classify.accuracy(LogisticRegression_classifier, testing_set))*100)"
   ]
  },
  {
   "cell_type": "code",
   "execution_count": 18,
   "metadata": {
    "collapsed": false
   },
   "outputs": [
    {
     "name": "stdout",
     "output_type": "stream",
     "text": [
      "SGDClassifier_classifier accuracy percent: 72.0\n"
     ]
    }
   ],
   "source": [
    "SGDClassifier_classifier = SklearnClassifier(SGDClassifier())\n",
    "SGDClassifier_classifier.train(training_set)\n",
    "print(\"SGDClassifier_classifier accuracy percent:\", (nltk.classify.accuracy(SGDClassifier_classifier, testing_set))*100)\n"
   ]
  },
  {
   "cell_type": "code",
   "execution_count": 19,
   "metadata": {
    "collapsed": false
   },
   "outputs": [
    {
     "name": "stdout",
     "output_type": "stream",
     "text": [
      "SVC_classifier accuracy percent: 49.0\n"
     ]
    }
   ],
   "source": [
    "SVC_classifier = SklearnClassifier(SVC())\n",
    "SVC_classifier.train(training_set)\n",
    "print(\"SVC_classifier accuracy percent:\", (nltk.classify.accuracy(SVC_classifier, testing_set))*100)\n"
   ]
  },
  {
   "cell_type": "code",
   "execution_count": 20,
   "metadata": {
    "collapsed": false
   },
   "outputs": [
    {
     "name": "stdout",
     "output_type": "stream",
     "text": [
      "LinearSVC_classifier accuracy percent: 75.0\n"
     ]
    }
   ],
   "source": [
    "LinearSVC_classifier = SklearnClassifier(LinearSVC())\n",
    "LinearSVC_classifier.train(training_set)\n",
    "print(\"LinearSVC_classifier accuracy percent:\", (nltk.classify.accuracy(LinearSVC_classifier, testing_set))*100)\n"
   ]
  },
  {
   "cell_type": "code",
   "execution_count": 21,
   "metadata": {
    "collapsed": false
   },
   "outputs": [
    {
     "name": "stdout",
     "output_type": "stream",
     "text": [
      "NuSVC_classifier accuracy percent: 73.0\n"
     ]
    }
   ],
   "source": [
    "\n",
    "NuSVC_classifier = SklearnClassifier(NuSVC())\n",
    "NuSVC_classifier.train(training_set)\n",
    "print(\"NuSVC_classifier accuracy percent:\", (nltk.classify.accuracy(NuSVC_classifier, testing_set))*100)"
   ]
  },
  {
   "cell_type": "markdown",
   "metadata": {
    "collapsed": true
   },
   "source": [
    "# Combining Algorithm"
   ]
  },
  {
   "cell_type": "code",
   "execution_count": 4,
   "metadata": {
    "collapsed": false
   },
   "outputs": [],
   "source": [
    "from nltk.classify import ClassifierI\n",
    "from statistics import mode\n",
    "class VoteClassifier(ClassifierI):\n",
    "    def __init__(self,*classifiers):\n",
    "        self._classifiers=classifiers\n",
    "    def classify(self,features):\n",
    "        votes=[]\n",
    "        for c in self._classifiers:\n",
    "            v=c.classify(features)\n",
    "            votes.append(v)\n",
    "        return mode(votes)\n",
    "    def confidence(self,features):\n",
    "        votes=[]\n",
    "        for c in self._classifiers:\n",
    "            v = c.classify(features)\n",
    "            votes.append(v)\n",
    "        choice_votes=votes.count(mode(votes))\n",
    "        conf=choice_votes/len(votes)\n",
    "        return conf\n",
    "\n"
   ]
  },
  {
   "cell_type": "code",
   "execution_count": null,
   "metadata": {
    "collapsed": true
   },
   "outputs": [],
   "source": [
    "voted_classifier=VoteClassifier(classifier,\n",
    "                                NuSVC_classifier,\n",
    "                                LinearSVC_classifier,\n",
    "                                SGDClassifier_classifier,\n",
    "                                MNB_classifier,\n",
    "                                BernoulliNB_classifier,\n",
    "                                LogisticRegression_classifier)"
   ]
  }
 ],
 "metadata": {
  "anaconda-cloud": {},
  "kernelspec": {
   "display_name": "Python [default]",
   "language": "python",
   "name": "python3"
  },
  "language_info": {
   "codemirror_mode": {
    "name": "ipython",
    "version": 3
   },
   "file_extension": ".py",
   "mimetype": "text/x-python",
   "name": "python",
   "nbconvert_exporter": "python",
   "pygments_lexer": "ipython3",
   "version": "3.5.2"
  }
 },
 "nbformat": 4,
 "nbformat_minor": 1
}

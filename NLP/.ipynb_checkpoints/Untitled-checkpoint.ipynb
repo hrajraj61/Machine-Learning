{
 "cells": [
  {
   "cell_type": "code",
   "execution_count": null,
   "metadata": {
    "collapsed": true
   },
   "outputs": [],
   "source": [
    "import nltk\n",
    "\n",
    "texts = [\"\"\"The Golden Retriever is a large-sized breed of dog bred as gun dogs to retrieve shot waterfowl, such as ducks and\n",
    "upland game birds, during hunting and shooting parties,[3] and were named 'retriever' because of their ability to retrieve\n",
    "shot game undamaged (soft mouth). Golden retrievers have an instinctive love of water, and are easy to train to basic or\n",
    "advanced obedience standards. They are a long-coated breed, with a dense inner coat that provides them with adequate warmth\n",
    "in the outdoors, and an outer coat that lies flat against their bodies and repels water. Golden retrievers are well suited\n",
    "to residency in suburban or country environments.[4] They shed copiously, particularly at the change of seasons, and require \n",
    "fairly regular grooming. The Golden Retriever was originally bred in Scotland in the mid-19th century.\"\"\"]"
   ]
  },
  {
   "cell_type": "code",
   "execution_count": null,
   "metadata": {
    "collapsed": false
   },
   "outputs": [],
   "source": [
    "print(\"Hello\")\n",
    "for text in texts:\n",
    "    sentences=nltk.sent_tokenize(text,language='english')\n",
    "    for sentence in sentences:\n",
    "        words=nltk.word_tokenize(sentence)\n",
    "        print(words)\n"
   ]
  },
  {
   "cell_type": "code",
   "execution_count": null,
   "metadata": {
    "collapsed": true
   },
   "outputs": [],
   "source": []
  }
 ],
 "metadata": {
  "anaconda-cloud": {},
  "kernelspec": {
   "display_name": "Python [conda env:Anaconda3]",
   "language": "python",
   "name": "conda-env-Anaconda3-py"
  },
  "language_info": {
   "codemirror_mode": {
    "name": "ipython",
    "version": 3
   },
   "file_extension": ".py",
   "mimetype": "text/x-python",
   "name": "python",
   "nbconvert_exporter": "python",
   "pygments_lexer": "ipython3",
   "version": "3.5.2"
  }
 },
 "nbformat": 4,
 "nbformat_minor": 1
}

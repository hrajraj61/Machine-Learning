{
 "cells": [
  {
   "cell_type": "code",
   "execution_count": null,
   "metadata": {
    "collapsed": true
   },
   "outputs": [],
   "source": [
    "from nltk import wordnet\n",
    "syns=wordnet.synset(\"program\")\n",
    "\n",
    "#synset\n",
    "print(syns[0].name())\n",
    "\n",
    "#just the word\n",
    "print(syns[0].lemmas()[0].name())\n",
    "\n",
    "#defination\n",
    "print(syns[0].defination)\n",
    "\n",
    "#examples\n",
    "print(syns[0].examples())"
   ]
  }
 ],
 "metadata": {
  "kernelspec": {
   "display_name": "Python [default]",
   "language": "python",
   "name": "python3"
  },
  "language_info": {
   "codemirror_mode": {
    "name": "ipython",
    "version": 3
   },
   "file_extension": ".py",
   "mimetype": "text/x-python",
   "name": "python",
   "nbconvert_exporter": "python",
   "pygments_lexer": "ipython3",
   "version": "3.5.2"
  }
 },
 "nbformat": 4,
 "nbformat_minor": 1
}

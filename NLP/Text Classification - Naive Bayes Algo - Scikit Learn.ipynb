{
 "cells": [
  {
   "cell_type": "code",
   "execution_count": 1,
   "metadata": {
    "collapsed": false
   },
   "outputs": [
    {
     "name": "stdout",
     "output_type": "stream",
     "text": [
      "['neg', 'pos']\n"
     ]
    }
   ],
   "source": [
    "import nltk\n",
    "import random\n",
    "from nltk.corpus import movie_reviews\n",
    "print([category for category in movie_reviews.categories()])\n",
    "documents=[(list(movie_reviews.words(fileid)),category) \n",
    "          for category in movie_reviews.categories()\n",
    "          for fileid in movie_reviews.fileids(category)]\n",
    "# print(*documents,sep=\"\\n\\n\")"
   ]
  },
  {
   "cell_type": "code",
   "execution_count": 2,
   "metadata": {
    "collapsed": false
   },
   "outputs": [],
   "source": [
    "random.shuffle(documents)\n"
   ]
  },
  {
   "cell_type": "code",
   "execution_count": 3,
   "metadata": {
    "collapsed": true
   },
   "outputs": [],
   "source": [
    "all_words=[w.lower() for w in movie_reviews.words()]"
   ]
  },
  {
   "cell_type": "code",
   "execution_count": 4,
   "metadata": {
    "collapsed": false
   },
   "outputs": [
    {
     "name": "stdout",
     "output_type": "stream",
     "text": [
      "253\n",
      "[(',', 77717), ('the', 76529), ('.', 65876), ('a', 38106), ('and', 35576), ('of', 34123), ('to', 31937), (\"'\", 30585), ('is', 25195), ('in', 21822)]\n"
     ]
    }
   ],
   "source": [
    "all_words=nltk.FreqDist(all_words)\n",
    "print(all_words[\"stupid\"])\n",
    "print(all_words.most_common(10))"
   ]
  },
  {
   "cell_type": "markdown",
   "metadata": {
    "collapsed": true
   },
   "source": [
    "# Converting words to Features with NLTK"
   ]
  },
  {
   "cell_type": "code",
   "execution_count": 5,
   "metadata": {
    "collapsed": false
   },
   "outputs": [],
   "source": [
    "word_features=list(all_words.keys())[:3000]\n",
    "\n",
    "def find_features(document):\n",
    "    words=set(document)\n",
    "    features={}\n",
    "    for w in word_features:\n",
    "        features[w]=(w in words)\n",
    "    return features"
   ]
  },
  {
   "cell_type": "code",
   "execution_count": 6,
   "metadata": {
    "collapsed": false
   },
   "outputs": [],
   "source": [
    "#print((find_features(movie_reviews.words('neg/cv000_29416.txt'))))"
   ]
  },
  {
   "cell_type": "code",
   "execution_count": 7,
   "metadata": {
    "collapsed": true
   },
   "outputs": [],
   "source": [
    "featuresets = [(find_features(rev), category) for (rev, category) in documents]"
   ]
  },
  {
   "cell_type": "markdown",
   "metadata": {
    "collapsed": true
   },
   "source": [
    "# Naive Bayes Classifier with NLTK"
   ]
  },
  {
   "cell_type": "code",
   "execution_count": 8,
   "metadata": {
    "collapsed": false,
    "scrolled": true
   },
   "outputs": [
    {
     "name": "stdout",
     "output_type": "stream",
     "text": [
      "({'enjoyed': False, 'plantations': False, 'replicating': False, 'regina': False, 'paulie': False, 'clinging': False, 'addicts': False, 'decorating': False, 'ornery': False, 'acknowledged': False, 'flashily': False, 'profanities': False, 'trapeze': False, 'uncovered': False, 'inputs': False, 'shrinks': False, 'spa': False, 'hood': False, 'heighten': False, 'dish': False, 'writing': False, 'lovemaking': False, 'beasts': False, 'pincus': False, 'easy': False, 'portia': False, 'romping': False, 'yuks': False, 'descriptions': False, 'juries': False, 'rossellinia': False, 'hairdos': False, 'dement': False, 'gerry': False, 'stance': False, 'strung': False, 'epsicokhan': False, 'twenty': False, 'possessing': False, 'authoritarians': False, 'guessing': False, 'dauntingly': False, 'bliss': False, 'descending': False, 'succeeded': False, 'partisanship': False, 'askew': False, 'surreptitious': False, 'winwood': False, 'unspeakably': False, 'aaaaaaaahhhh': False, 'naaaaaaah': False, 'wall': False, 'loves': False, 'lifelessness': False, 'wayyyy': False, 'concept': False, 'establish': False, 'but': True, 'anyhow': False, 'edt': False, 'shiva': False, 'masturbatory': False, 'tigher': False, 'lace': False, 'rooftops': False, 'prefer': False, 'thrice': False, 'rejoining': False, 'golf': False, 'chills': False, 'mortician': False, 'rolls': False, 'blown': False, 'pocket': True, 'walkin': False, '21st': False, 'cort': False, 'livelihoods': False, 'moviemaker': False, 'unconvincingly': False, 'seedy': False, 'informed': False, 'turkey': False, 'costly': False, 'woodenly': False, 'geraldo': False, 'cradling': False, 'jp2': False, 'curtolo': False, 'ontop': False, 'adlai': False, 'compadre': False, 'popularizer': False, 'oversimplified': False, 'expo': False, 'reminisce': False, 'irma': False, 'cabalistic': False, 'mused': False, 'bussing': False, 'cashier': False, 'pedigree': False, 'sub': False, 'jia': False, 'unschooled': False, 'homophobic': False, 'relay': False, 'demarco': False, 'debussy': False, 'recruited': False, 'masking': False, 'capes': False, 'car': False, 'audible': False, 'alarming': False, '_least_': False, 'frustrate': False, 'pet': False, 'patches': False, 'abraham': False, 'edit': False, 'suit': False, 'darwin': False, 'stomach': False, 'idyllic': False, 'gonna': False, 'detrimentally': False, 'efects': False, 'wellington': False, 'one': True, 'terrore': False, 'stem': False, 'grenade': False, 'disbeliefs': False, 'conclusion': False, 'lobbying': False, 'versus': False, 'youngstein': False, 'coens': False, 'calls': False, 'losses': False, 'jfk': False, 'specifics': False, 'lunching': False, 'photogenic': False, 'butchery': False, 'stank': False, 'harmed': False, 'peeing': False, 'feeling': False, 'head': False, 'delirious': False, 'clavell': False, 'weismuller': False, 'enliven': False, 'twilight': False, 'brokers': False, 'patriotic': False, 'stardom': False, 'garbed': False, 'illustrating': False, 'curmudgeons': False, 'supervision': False, 'gutting': False, 'renier': False, 'guttenberg': False, 'productive': False, 'denmark': False, 'knits': False, 'phasers': False, 'diddly': False, 'who': True, 'happier': False, 'descends': False, 'resteraunt': False, 'tranisition': False, 'pizzazz': False, 'hysterically': False, 'really': False, 'arcane': False, 'angrily': False, 'chambers': False, 'matches': False, 'deflection': False, 'pallbearer': False, 'korshunov': False, 'factored': False, 'confuses': False, 'immediatly': False, 'roused': False, 'sherlock': False, 'unfold': False, 'fiddling': False, 'whould': False, 'knockdown': False, 'adviser': False, 'shalt': False, 'crests': False, 'sleeze': False, 'selective': False, 'yuck': False, 'antennae': False, 'newswoman': False, 'flamboyance': False, 'soran': False, 'strapp': False, 'derailed': False, 'ken': False, 'sweethearts': False, 'september': False, 'lindenlaub': False, 'francois': False, 'hits': False, 'furred': False, 'fulfils': False, 'glazed': False, 'jawa': False, 'llosa': False, 'regarding': False, 'retrospection': False, 'originated': False, 'finds': False, 'duality': False, 'presidents': False, 'twists': False, 'unwilling': False, 'agree': False, 'intellectualizing': False, 'klutz': False, 'nitrite': False, 'chronological': False, 'chao': False, '40': False, '2023': False, 'velda': False, 'picks': False, 'wopr': False, 'measurements': False, 'superbly': False, 'zukovsky': False, 'henri': False, 'foresight': False, '2259': False, 'projectile': False, 'patently': False, '\"': True, 'gallantry': False, 'thoughtless': False, 'roaches': False, 'rears': False, 'barnacles': False, 'snorting': False, 'virility': False, 'girlish': False, 'horseback': False, 'connecticut': False, 'transmission': False, 'reporter': False, 'ze': False, 'pains': False, 'discordant': False, 'javier': False, 'accidently': False, 'incomprehensible': False, 'sela': False, 'arenas': False, 'infuriates': False, 'ball': False, 'aggie': False, 'wises': False, 'surfeit': False, 'mistimed': False, 'hanoi': False, 'astounded': False, 'contextual': False, 'murders': False, 'anly': False, 'discovered': False, 'pepsi': False, 'houyhnhnms': False, 'impactful': False, 'lansbury': False, 'toughness': False, 'incomplete': False, 'genie': False, 'oftentimes': False, 'unsubtle': False, 'pankow': False, 'mtcts1': False, 'set': True, 'universality': False, 'marky': False, 'simulated': False, 'taraji': False, 'gray': False, 'hummable': False, 'silvio': False, 'create': False, 'goofball': False, 'leaden': False, 'doom': False, 'irate': False, 'lopez': False, 'trier': False, 'commissioning': False, 'hmos': False, 'greatest': False, 'garters': False, 'ant': False, 'vantage': False, 'karl': False, 'levers': False, 'cybil': False, 'connecting': False, 'destiny': False, 'recipient': False, 'diddley': False, 'embroiled': False, 'junkets': False, 'sliding': False, 'readers': False, 'magruder': False, 'helplessness': False, 'regretfully': False, 'art': False, 'actionfest': False, 'johnathon': False, 'patriarch': False, 'obscenity': False, 'shoot': False, 'convey': False, 'mesh': False, 'hoax': False, 'madio': False, 'fiorina': False, 'proceedings': False, 'cybill': False, 'equating': False, 'illusion': False, 'dependency': False, 'yasmeen': False, 'moreu': False, 'diverts': False, 'shelling': False, 'invests': False, 'significance': False, 'sab': False, 'voyeur': False, 'kahlberg': False, 'journeyman': False, 'takashi': False, 'homing': False, 'lefessier': False, 'banishes': False, 'instantly': False, 'ayers': False, 'nerdy': False, 'hatami': False, 'gunfighter': False, 'fistful': False, 'jumpy': False, 'volker': False, 'belinda': False, 'dials': False, 'absurdist': False, 'periphery': False, 'secluding': False, 'blinded': False, 'hypothesis': False, 'gives': False, 'surpassed': False, 'headaches': False, 'reptilian': False, 'distortion': False, 'blasphemy': False, 'showering': False, 'improbabilities': False, 'zi': False, 'hummingbird': False, 'old': True, 'oddities': False, 'battles': False, '1692': False, 'games': False, 'degrading': False, 'salaries': False, 'mispronounces': False, '129': False, 'blaming': False, 'asserts': False, 'hustler': False, 'dragonflies': False, 'salt': False, 'mayor': False, 'rowdy': False, 'bladder': False, 'cretin': False, 'dwight': False, 'overlooked': False, 'unaccountably': False, 'ridley': False, 'leads': False, 'systematic': False, 'schoolteacher': False, 'embodies': False, 'happen': False, 'inually': False, 'nordern': False, 'adaptation': False, 'tour': False, 'fonz': False, 'illuminate': False, 'icky': False, 'export': False, 'heritage': False, 'mistfortune': False, 'alana': False, 'church': False, 'rebelled': False, '1978': False, 'goths': False, 'although': True, 'admittance': False, 'rampant': False, 'brennick': False, 'felicity': False, 'plates': False, 'observing': False, 'miata': False, 'evangelista': False, 'sommers': False, 'fifth': False, 'patronizing': False, 'yuji': False, 'thematically': False, 'gardenia': False, 'narrators': False, 'schenkel': False, 'cheech': False, 'viper': False, 'drunken': False, 'tool': False, 'zeist': False, 'compounding': False, 'swashbuckers': False, 'sioux': False, 'souk': False, 'reasonably': True, 'coyote': False, 'constrictor': False, 'vicky': False, 'truthfulness': False, 'firearms': False, 'tangible': False, 'gungan': False, 'schreiber': False, 'win': False, 'flic': False, 'heart': True, 'saving': False, 'fields': False, 'believers': False, 'contend': False, 'cello': False, 'foregrounds': False, 'refreshed': False, 'henning': False, 'screwy': False, 'emphasis': False, 'jasmine': False, 'cried': False, 'secrets': False, 'koufax': False, 'furs': False, 'surreal': False, 'holes': False, 'brings': False, 'olympic': False, 'shamelessly': False, 'doofus': False, 'tuxedo': False, 'guerra': False, 'focker': False, '?': True, 'haney': False, 'crouse': False, 'moonlighting': False, 'interrogates': False, 'prince': False, 'fallacy': False, 'ra': False, 'gattaca': False, '5671': False, 'videophones': False, 'ineptitude': False, 'western': False, 'supplant': False, 'net': False, 'ingred': False, 'range': False, 'bunker': False, 'bremner': False, 'fascination': False, 'faces': False, 'rolling': False, 'sulkis': False, 'fraternity': False, 'exposed': False, 'chopsocky': False, 'dons': False, 'sherry': False, 'neighbours': False, 'shelved': False, 'trusted': False, 'tunie': False, 'hampshire': False, 'israeli': False, 'hellraiser': False, 'compressed': False, 'hokey': False, 'automatons': False, 'hysterical': False, '115': False, 'totter': False, 'arkham': False, 'hoping': False, 'jos': False, 'muscles': False, 'tanker': False, 'slides': False, 'fitzpatrick': False, 'schwarzbaum': False, 'backseat': False, 'intrusive': False, 'hann': False, 'characterizes': False, 'choke': False, 'raider': False, 'aboard': False, 'unsupportive': False, 'energetically': False, 'injurious': False, 'dominguez': False, 'separates': False, 'laconically': False, 'twotg': False, 'brien': False, 'stranded': False, 'marine': False, 'rewritten': False, 'aristocrats': False, 'sighted': False, 'novotny': False, 'context': False, 'uncovers': False, 'situation': False, 'pros': False, 'chilling': False, 'smells': False, 'validating': False, 'delpech': False, 'duckling': False, 'lebanon': False, 'reacquaint': False, 'pioneers': False, 'analytic': False, 'dissolute': False, 'trojan': False, 'binary': False, 'nathaniel': False, 'calvinist': False, 'palpable': False, 'sudddenly': False, 'excising': False, 'reeks': False, 'lavatory': False, 'permeate': False, 'abiility': False, 'reviewers': False, 'spontaneously': False, 'hobel': False, 'interpersonal': False, 'conferences': False, 'nimble': False, 'fusing': False, 'gloppy': False, 'overlaps': False, 'honored': False, 'panic': False, 'ingeniousness': False, 'inaccurately': False, 'oberon': False, 'pilgrimage': False, 'drove': False, 'rancid': False, 'bossman': False, 'ishtar': False, 'stepford': False, 'unveiling': False, 'promo': False, 'copycat': False, 'tilting': False, 'stir': False, 'association': False, 'polonius': False, 'telephone': False, 'kazdan': False, 'boyfriend': False, 'leggings': False, 'congregations': False, 'meaningful': False, 'mirthless': False, 'chien': False, 'horrors': False, 'launched': False, 'southeast': False, 'chamberlain': False, 'turvy': False, 'chazz': False, 'divulges': False, 'innumerable': False, 'harried': False, 'boom': False, 'gawk': False, 'brothel': False, 'speculations': False, 'christy': False, 'near': False, 'lifelong': False, 'arne': False, 'drugs': False, 'nodded': False, 'anatomizes': False, 'livelier': False, 'cell': False, 'windshield': False, 'redeveloped': False, 'preferable': False, 'soho': False, 'beetlejuice': False, 'renegades': False, 'recieves': False, 'precepts': False, 'beginners': False, 'handstand': False, 'islamic': False, 'onstage': False, 'douchebag': False, 'dancing': False, 'levied': False, 'starring': False, 'grinds': False, 'pen': False, 'pasting': False, 'fleiss': False, 'anymore': False, 'gooding': False, 'adroit': False, 'entangled': False, 'terpiece': False, 'siphoned': False, 'overnight': False, 'producer': False, 'order': False, 'barntill': False, 'grumpiest': False, 'intermittently': False, 'flamm': False, 'crows': False, 'bicentennial': False, 'bombard': False, 'hawke': False, 'orbach': False, 'paraded': False, 'incited': False, 'aborbed': False, 'infertility': False, 'puerto': False, 'schillings': False, 'musketeer': False, 'panscholi': False, 'skimpy': False, 'mural': False, 'joon': False, 'rejects': False, 'scraggly': False, 'archibald': False, 'spunky': False, 'affection': False, 'scrubbing': False, 'lovelorn': False, 'embodied': False, 'glum': False, 'wing': False, 'hussein': False, 'jupiter': False, 'liberal': False, 'operate': False, 'loyal': False, 'embarassed': False, 'obdurate': False, '|': False, 'ambiguousness': False, 'along': False, 'paraphernalia': False, 'titillate': False, 'psychoanalyze': False, 'folland': False, 'incessantly': False, 'erbe': False, 'fiend': False, 'swells': False, 'trumpeter': False, 'adolescence': False, 'sacks': False, 'combining': False, 'naked': False, 'evoked': False, 'screeching': False, 'then': True, 'antithesis': False, 'objects': False, 'tinges': False, 'bonitzer': False, 'officer': False, '_the': False, 'delia': False, 'turtleneck': False, '100': False, 'cooled': False, 'swooping': False, 'kicky': False, 'suaku': False, 'jogs': False, 'for': True, 'lettering': False, 'exterminated': False, 'friedkin': False, 'transpires': False, 'stupidly': False, 'kurgan': False, 'proportionately': False, 'mcguigan': False, 'morant': False, 'crooks': False, 'disappearances': False, 'parked': False, 'pompous': False, 'unlistenable': False, 'cerrano': False, 'milquetoast': False, 'attempts': False, 'east': False, 'rainbows': False, 'hefty': False, 'catalyzes': False, 'ratcheted': False, 'rasp': False, 'elegiac': False, 'outward': False, 'dulles': False, 'recitals': False, 'cybernetic': False, 'exploits': False, 'backwater': False, 'stubble': False, 'fairer': False, 'polly': False, 'harrisburg': False, 'pauline': False, 'disturbingly': False, 'apologetically': False, 'kraftwerk': False, 'slap': False, 'trudging': False, 'moved': False, 'waltzes': False, 'trendiness': False, 'forbade': False, 'unreleased': False, 'loom': False, 'moll': False, 'zemecki': False, 'slapdash': False, 'argentinian': False, 'mastermind': False, 'unendurably': False, 'rereleased': False, 'initally': False, 'publishing': False, 'pristine': False, 'jordan': False, 'quarrelling': False, 'glimpsed': False, 'overboard': False, 'bunyans': False, 'heavier': False, 'floor': False, 'nixes': False, 'sporting': False, 'highschool': False, 'maxx': False, 'slavehood': False, 'irritated': False, 'stowed': False, 'frain': False, 'spice': False, 'melodramtic': False, 'matchup': False, 'pulsing': False, 'brooklynite': False, 'respectively': False, 'willy': False, 'pace': False, 'goggles': False, 'mahoney': False, 'fonder': False, 'andie': False, 'radiates': False, 'obliterates': False, 'almasy': False, 'renton': False, 'artwork': False, 'intimidate': False, 'bookstores': False, 'jewelry': False, 'homefront': False, 'accomplishing': False, 'singular': False, 'thrower': False, 'squeeze': False, 'bachelor': False, 'matrimony': False, 'promiss': False, 'davidovich': False, 'regain': False, 'declining': False, 'foregin': False, 'topps': False, 'pennebaker': False, 'forte': False, 'injustice': False, 'audition': False, 'warmers': False, 'incredibility': False, 'choses': False, 'damnation': False, 'voiceover': False, 'requirements': False, 'paths': False, 'zest': False, 'terrorfying': False, 'objecting': False, 'knight': False, 'zippel': False, 'dessert': False, 'knockoff': False, 'irony': False, 'overwhelm': False, 'quirkier': False, 'ingrown': False, 'childbirth': False, 'universal': False, 'lightening': False, 'tourniquet': False, 'unarmed': False, 'withers': False, 'nail': False, 'viscously': False, 'skillful': False, 'videographer': False, 'tubing': False, 'haunting': False, 'tuesday': False, 'weighty': False, 'medical': False, 'ghost': False, 'serenaded': False, 'unprotected': False, 'stripped': False, 'whose': False, 'supergirl': False, 'unwelcome': False, 'placards': False, 'horsing': False, 'smooths': False, 'staggeringly': False, 'fullyloaded': False, 'pointy': False, 'flummoxing': False, 'squish': False, 'whack': False, 'farewell': False, 'radition': False, 'highbrow': False, 'nevermind': False, 'peculiarities': False, 'plummer': False, 'ross': False, 'foreseeable': False, 'ewe': False, 'pancakes': False, 'familiarization': False, 'studi': False, 'links': False, 'bimbo': False, 'zaentz': False, 'colleen': False, 'eyeroll': False, 'pt': False, 'escapism': False, 'used': False, 'provoked': False, 'winona': False, 'impregnation': False, 'stapled': False, 'gesundheit': False, 'nykvist': False, 'dunsworth': True, 'disrupting': False, 'estelle': False, 'godzilla': False, 'abraded': False, 'hypotheitically': False, 'concluding': False, 'illicit': False, '16mm': False, 'proffered': False, 'beetle': False, 'walks': False, 'thelma': False, 'locks': False, 'complicated': False, 'sprawling': False, 'last': False, 'tiredness': False, 'schwinn': False, 'slipups': False, 'herc': False, 'witless': False, 'idisyncratic': False, 'sues': False, 'political': False, 'hurts': False, 'tyra': False, 'diverted': False, 'effectful': False, 'richardson': False, 'vet': False, 'sit': False, 'skater': False, 'laded': False, 'yachting': False, 'exorcise': False, 'minimalist': False, 'dangerous': False, 'wants': True, 'gazzara': False, 'mails': False, 'adored': False, 'wilhelm': False, 'brothers': False, 'rupert': False, 'serpent': False, 'hardback': False, 'proportion': False, 'adorned': False, 'warfield': False, 'prosperity': False, 'below': False, 'harm': False, 'skirmishes': False, 'loop': False, 'suchet': False, 'animality': False, 'genres': False, 'tech': False, 'royalty': False, 'erickson': False, 'sole': False, 'glitzy': False, 'play': False, 'tamuera': False, 'marketer': False, 'nominees': False, 'initiative': False, 'expressive': False, '_loathe_': False, 'downers': False, 'shootout': False, 'caught': False, 'complicates': False, 'seizes': False, 'spielberg': False, 'chutzpah': False, 'rile': False, 'singe': False, 'bloodfilled': False, 'darkman': False, 'putty': False, 'listened': False, 'innovations': False, 'rothchild': False, 'titty': False, 'evolution': False, 'mindedness': False, 'branded': False, 'cigarette': False, 'acknowledgment': False, 'exchanging': False, 'amazing': False, 'semester': False, 'sadistically': False, 'wealth': False, 'o': False, 'auctioneer': False, 'fifteen': False, 'snipped': False, 'twisters': False, 'chen': False, 'ominously': False, 'garbage': False, 'penned': False, 'insistance': False, 'infatuation': False, 'eddie': False, 'petrucelli': False, 'fierce': False, 'donnell': False, 'cargo': False, 'talkative': False, 'enhance': False, '1298': False, 'woof': False, 'encompassing': False, 'brimley': False, 'script': False, 'basketball': False, 'trends': False, 'leasure': False, 'worship': False, 'wb': False, 'remainder': False, 'start': False, 'indicates': False, 'uncontrollably': False, 'monoliths': False, 'preppie': False, 'mambos': False, 'aperitif': False, 'reek': False, 'cellulars': False, 'authenticity': False, 'invent': False, 'tinting': False, 'cornell': False, 'ramblings': False, 'tools': False, 'nights': False, 'scarab': False, 'slattery': False, 'loudly': False, 'laments': False, 'cleaver': False, 'revolving': False, 'appointed': False, 'drummer': False, 'rifkin': False, 'analyzation': False, 'gulp': False, 'embarrassment': False, 'plotlessness': False, 'noses': False, 'gumshoe': False, 'shooter': False, 'talkie': False, 'kurtz': False, 'remix': False, 'unshaven': False, 'comparitive': False, 'mistreatment': False, 'haircuts': False, 'beaudoin': False, 'holder': False, 'uninterested': False, 'juergen': False, 'clubish': False, 'whimsy': False, 'smothering': False, 'flubber': False, 'toast': False, 'lisping': False, 'ye': False, 'lice': False, 'novak': False, 'equation': False, 'epiphanies': False, 'turnabout': False, 'cherish': False, 'thriller': False, 'referring': False, 'bikinis': False, 'sol': False, 'whut': False, 'rubin': False, 'hunky': False, 'kissinger': False, 'flynt': False, 'rackwitz': False, 'overweight': False, 'norway': False, 'site': False, 'headlined': False, 'just': False, 'carpet': False, 'christopher': False, 'inning': False, 'macbeth': False, 'nuns': False, 'lola': False, 'fleshy': False, 'pompano': False, 'hugger': False, 'clack': False, 'epic': False, 'cohagen': False, 'liu': False, 'reprograms': False, 'plugging': False, '4th': False, 'du': False, 'sverak': False, 'canals': False, 'credo': False, 'litefoot': False, 'smits': False, 'worshipping': False, 'substantially': False, 'thriving': False, 'confronting': False, 'cycling': False, 'joann': False, 'chief': False, 'mindedly': False, 'exploding': False, 'glowering': False, 'sandstorm': False, 'felt': False, 'columbine': False, 'dim': False, 'circles': False, 'cues': False, 'knocking': False, 'spaceship': False, 'peacably': False, 'slashfest': False, 'mccole': False, 'globe': False, 'aggravate': False, 'accuse': False, 'spanned': False, 'triggers': False, 'gambling': False, 'pharoah': False, 'finishing': False, 'conversation': False, 'manse': False, 'tiresomely': False, 'gussied': False, 'swanky': False, 'inimitable': False, 'guess': False, 'prediction': False, 'unexpected': False, 'implausibility': False, 'simpleminded': False, 'chiba': False, 'winks': False, 'equidistant': False, 'weeks': False, 'epidemic': False, 'twisty': False, 'hankering': False, 'amendment': False, 'chuckles': False, 'penelope': False, 'pearls': False, 'segregation': False, 'price': False, 'defoliates': False, 'unopposed': False, 'upholds': False, 'rearranging': False, 'inadequate': False, 'sensible': False, 'vylette': False, 'earl': False, 'nudge': False, 'manifests': False, 'berkley': False, 'reinvigorating': False, 'silicon': False, 'profit': False, 'knucklehead': False, 'rossellini': False, 'switch': False, 'liddy': False, 'suburb': False, 'herrier': False, 'redheaded': False, 'regan': False, 'fiery': False, 'conventions': False, 'brave': False, 'gunshot': False, 'extraction': False, 'engaged': False, 'dumbest': False, 'licks': False, 'humerous': False, 'provocative': False, 'perpetual': False, 'kidnapped': False, 'manufactured': False, 'melaine': False, 'tie': False, 'thenardiers': False, 'distracted': False, 'farmers': False, 'spud': False, 'hatched': False, 'melting': False, 'flowers': True, 'archie': False, 'clinic': False, 'hackman': False, 'beverages': False, 'silk': False, 'leoni': False, 'morphing': False, 'sutherland': False, 'physicist': False, 'tomfoolery': False, 'glorify': False, 'stay': False, 'implant': False, 'playing': False, 'phil': False, 'eater': False, 'burr': False, 'lesly': False, 'aloofness': False, 'salem': False, 'businessman': False, 'conniving': False, 'beginning': False, 'rag': False, 'adolescents': False, 'flim': False, 'automats': False, 'allegory': False, 'undeveloped': False, 'pachinko': False, 'emcee': False, 'shootouts': False, 'income': False, 'flanagan': False, 'mantegna': False, 'ava': False, 'ritalin': False, 'permissiveness': False, 'macgowan': False, 'drawn': False, 'fiona': False, 'washed': False, 'danny': False, 'saying': False, 'pachanga': False, 'scrutinizing': False, 'chloe': False, 'cutting': False, 'nukes': False, 'unauthentic': False, 'technological': False, 'scoop': False, 'devices': False, 'earthlings': False, 'rollergirls': False, 'richelieu': False, 'mcgruder': False, 'bombshells': False, 'elliptical': False, 'celebrated': False, 'determined': False, 'fig': False, 'berg': False, 'ngoc': False, 'aftertaste': False, 'raleigh': False, 'santas': False, 'maryland': False, 'lollipop': False, 'involvment': False, 'announcements': False, 'edu': False, 'kinder': False, 'analysis': False, 'orson': False, 'percent': False, 'psychopathic': False, 'dizzyingly': False, 'rotten': False, 'spheeris': False, 'indiana': False, 'forewarned': False, 'mey': False, 'dreamer': False, 'tale': False, 'wobbly': False, 'hobby': False, 'attained': False, '_star': False, 'cells': False, 'hick': False, 'unaffected': False, 'prepare': False, 'matching': False, 'darcy': False, 'cheesy': False, 'disjointedness': False, 'assisting': False, 'scars': False, 'potrayed': False, 'hitch': False, 'guccione': False, 'ran': False, 'poke': False, 'barracking': False, 'roald': False, 'scary': False, 'crusoe': False, 'ilm': False, 'opportunistic': False, 'mizrahi': False, 'blubbering': False, 'randall': False, 'sunning': False, 'impossibilities': False, 'rafe': False, 'workout': False, 'newfound': False, 'broadside': False, 'chelsom': False, 'ambience': False, 'shimmying': False, 'object': False, '_the_fugitive_': False, 'nonense': False, 'staining': False, 'joy': True, 'kalifornia': False, 'starlet': False, 'spans': False, 'abc': False, 'grieco': False, 'heimlich': False, 'tots': False, 'contacts': False, 'contemplate': False, 'spoke': False, 'helicopter': False, 'misanthropy': False, 'merian': False, 'meg': False, 'enter': False, 'steel': False, 'camcorder': False, 'inventing': False, 'pees': False, 'balloons': False, 'euphoric': False, 'group': False, 'engulfing': False, '3d': False, 'extremism': False, 'batch': False, 'glamour': False, 'adhere': False, 'imply': False, 'micromanaged': False, '80s': False, 'macdowell': False, 'pelted': False, 'alzheimer': False, 'severed': False, 'reduction': False, 'wheels': False, 'meathooks': False, 'scroll': False, 'ralph': False, 'occasionally': False, 'newbie': False, 'vanzant': False, 'investigation': False, 'chomped': False, 'filmdom': False, 'suspensor': False, 'eye': False, 'chereau': False, 'fundamentalist': False, 'redneck': False, 'nonjudgemental': False, 'shipments': False, 'amateur': False, 'pledge': False, 'withhold': False, 'mecilli': False, '8a': False, 'behaviors': False, 'redheads': False, 'straightforward': False, 'darnell': False, 'sook': False, 'wages': False, 'scanned': False, '300': True, 'hassles': False, 'ultraconservative': False, 'portuguese': False, 'pathological': False, 'endemic': False, 'puzo': False, 'generalizations': False, 'managing': False, 'politcal': False, 'depp': False, 'homeward': False, 'cheesiest': False, 'freewill': False, 'unpublished': False, 'articulately': False, 'hindu': False, 'viewings': False, 'flaming': False, 'tyrant': False, 'grains': False, 'waning': False, 'pussyfoot': False, 'thumbing': False, 'regret': False, 'weaving': False, 'shoddy': False, 'lennix': False, 'umpteenth': False, 'headfirst': False, 'dweller': False, 'embrace': False, 'sculptures': False, 'cataloguing': False, 'action': False, 'seeming': False, 'walther': False, 'crumbs': False, 'grier': False, 'convalesces': False, 'imprison': False, 'lad': True, 'pore': False, 'via': False, 'sucked': False, 'pornographer': False, 'divert': False, 'treill': False, 'futz': False, 'cazale': False, 'jabs': False, 'hides': False, 'genitalia': False, 'excavating': False, 'pullam': False, 'troubles': False, 'enable': False, 'cements': False, 'supporting': False, 'homogenize': False, 'alphonsia': False, 'tasks': False, 'unseen': False, 'salinger': False, 'teenaged': False, 'wendy': False, 'apologizes': False, 'yanni': False, 'expressionists': False, 'jeff': False, 'average': True, 'shoots': False, 'mortars': False, 'shaken': False, 'carefully': False, 'clang': False, 'draven': False, 'sporadically': False, 'bela': False, 'sweatshirt': False, 'shark': False, 'fatale': False, 'barns': False, 'sculptress': False, 'erie': False, 'deriving': False, 'repartee': False, 'office': False, 'condone': False, 'barriers': False, 'defeaning': False, 'residents': False, 'enhancer': False, 'agreement': False, 'dwindled': False, 'liaison': False, 'war': False, 'vessel': False, 'sickly': False, 'corrupter': False, 'widow': False, 'yielded': False, 'surrealism': False, 'willingness': False, 'blunders': False, 'lyricized': False, 'opportunist': False, 'naifeh': False, 'albeit': False, 'granddaughter': True, 'funded': False, 'inane': False, 'kindness': False, 'bleibtreu': False, 'gayheart': False, 'hynek': False, 'sigh': False, 'spoonful': False, 'evangelicals': False, 'subservient': False, 'mountainous': False, 'sakamoto': False, 'almod': False, 'mexican': False, 'assuming': False, 'donohue': False, 'bemoaning': False, 'balls': False, 'intergalactic': False, 'allegra': False, 'posting': False, 'wyatt': False, 'requiring': False, 'venomous': False, 'blind': False, 'falcone': False, 'flatuence': False, 'gordie': False, 'va': False, 'strolling': False, '14th': False, 'mcmanus': False, 'underlit': False, 'spokesperson': False, '2293': False, 'dumas': False, 'sweathogs': False, 'uninterrupted': False, 'promote': False, 'theology': False, 'barclay': False, 'milder': False, 'serves': False, 'gaelic': False, 'accidentally': False, 'eloped': False, 'rival': False, 'martians': False, 'persuaded': False, 'juan': False, 'experiences': False, 'eachother': False, 'leaned': False, 'warda': False, 'fairfax': False, 'giddy': False, 'heavens': False, 'rafting': False, 'astronauts': False, 'panthers': False, 'daily': False, 'glad': False, 'testicular': False, 'brains': False, 'bags': False, 'groping': False, 'phonograph': False, 'mcdonalds': False, 'paperwork': False, 'uncanny': False, 'operations': False, 'conveyed': False, 'category': False, 'caligula': False, 'herb': False, 'hiroshima': False, 'snapped': False, 'necessities': False, 'agitation': False, 'romy': False, 'stuntman': False, 'holm': False, 'draggy': False, 'cecilia': False, 'arrow': False, 'your': True, 'unspeakable': False, 'manning': False, 'freeway': False, 'matrons': False, 'yada': False, 'relunctently': False, 'someway': False, 'joanna': False, 'senior': False, 'injure': False, 'programmed': False, 'affirm': False, 'twin': False, 'depravity': False, 'partake': False, 'jannsen': False, 'gruelling': False, 'taunting': False, 'anchor': False, 'suited': False, 'zigged': False, 'bilal': False, 'eriksson': False, 'cubes': False, 'voyeuristically': False, 'janusz': False, 'sorna': False, 'benefactor': False, 'frenchmen': False, 'cruiser': False, 'eqsuisite': False, 'eligible': False, 'unappealing': False, 'pygmalion': False, 'laconic': False, 'environmental': False, '3p0': False, 'exhale': False, 'daytrippers': False, 'steals': False, 'sebastian': False, 'gyllenhall': False, 'lubricants': False, 'cavern': False, 'inserted': False, 'scope': False, 'picky': False, 'bisexuality': False, 'fateful': False, 'ringleader': False, 'ostensibly': False, 'kicker': False, 'toppled': False, 'genes': False, 'bucketloads': False, 'putrid': False, 'wagner': False, 'reissued': False, 'newsradio': False, 'periodic': False, 'parisian': False, 'refilmed': False, 'dream': False, 'rescue': False, 'lorraine': False, 'mobile': False, 'obnoxious': True, 'pierces': False, 'fluish': False, 'unconnected': False, 'internment': False, 'increasing': False, 'attended': False, 'dungeons': False, 'bosom': False, 'seance': False, 'shear': False, 'primed': False, 'cinema': False, 'bludgeoned': False, 'pixie': False, 'unjustly': False, 'devoured': False, 'exhilarating': False, 'choderlos': False, 'mosquito': False, 'vacano': False, 'emperor': False, 'deaky': False, 'cont': False, 'penchant': False, 'vaulerble': False, 'beatng': False, 'fanatical': False, 'solving': False, 'shortly': False, 'adaptations': False, 'cemetary': False, 'peyton': False, 'minbo': False, '_gag': False, 'shrugged': False, 'refrigerates': False, 'kristy': False, 'hsiao': False, 'pope': False, 'cowers': False, '_fifty_': False, 'significantly': False, 'seawall': False, 'linguists': False, 'shards': False, 'ruffini': False, 'deliver': False, 'smith': False, 'interacting': False, 'vertigo': False, 'blackmore': False, 'unformal': False, 'doppelganger': False, 'brilliance': False, 'mulling': False, 'transcended': False, 'bathes': False, 'gallo': False, 'omitting': False, 'vietnam': False, 'supermarket': False, 'delve': False, 'sights': False, 'anaconda': False, 'slum': False, 'cuteness': False, 'riddick': False, 'formality': False, 'hershman': False, 'distrusts': False, 'lazer': False, 'biohazard': False, 'duty': False, 'charasmatic': False, 'stooge': False, 'cyber': False, 'runner_': False, 'princess': False, 'disallows': False, 'instruction': False, 'tortured': False, 'hippies': False, 'noctis': False, 'paleontologist': False, 'eyebrows': False, 'trejo': False, 'bedtimes': False, 'keyboardist': False, 'kaczynski': False, 'callum': False, 'sides': False, 'maxi': False, 'slamming': False, 'pitillo': False, 'melodrama': False, 'priam': False, 'pharmacological': False, 'oppisites': False, 'scripters': False, 'noirs': False, 'fixed': False, 'newark': False, 'parodying': False, 'nightspot': False, 'lounging': False, 'harris': False, 'bounderby': False, 'sequences': True, 'highway': False, 'coloured': False, 'perfunctory': False, 'unextraordinary': False, 'impulsive': False, 'most': True, 'internationally': False, 'vaild': False, 'whirl': False, 'spottiswoode': False, 'asthmatic': False, 'sicker': False, 'festive': False, 'greta': False, 'brazillian': False, 'pops': False, 'gugino': False, 'korea': False, 'steadicam': False, 'woozy': False, 'bernt': False, 'hulk': False, 'wong': False, 'feature': False, 'composers': False, 'docudramas': False, 'emasculation': False, 'esque': False, 'ethnocentric': False, 'worries': False, 'imbecile': False, 'ira': False, 'manifest': False, 'movers': False, 'tramell': False, 'tragicomic': False, 'loudmouth': False, 'reprint': False, 'reckless': False, 'laws': False, 'demeans': False, 'gidley': False, 'relished': False, 'circulation': False, 'voracious': False, 'trillian': False, ',': True, 'coerce': False, 'morlocks': False, 'selfishly': False, 'rube': False, 'mick': False, 'rationalization': False, 'handfuls': False, 'racers': False, 'permanetly': False, 'products': False, 'basil': False, 'siding': False, 'hour': False, 'wu': False, 'graduates': False, 'influences': False, 'crevillen': False, 'inner': False, 'climb': False, 'placid': False, 'levitt': False, 'golino': False, '_matewan_': False, 'policies': False, 'gilsig': False, 'requires': False, 'volumes': False, 'force': False, 'snore': False, 'infirm': False, 'simplicity': False, 'fraction': False, 'bandaged': False, 'bearing': False, 'inseparable': False, '30m': False, 'pant': False, 'addendum': False, 'retriever': False, 'signifying': False, 'pauly': False, 'personifies': False, 'travellers': False, 'queries': False, '_poltergeist_': False, '92': False, 'headcount': False, 'bookie': False, 'ninjaman': False, 'greys': False, 'advertisements': False, 'trashiness': False, 'memory': False, 'royal': False, 'risky': False, 'byrne': False, 'tagging': False, 'album': False, 'salad': False, 'transistion': False, 'behoove': False, 'inroad': False, 'linda': False, 'christie': False, 'keough': False, 'helming': False, 'absolutely': False, 'requisite': False, '_election': False, 'gomorrah': False, 'enthusiasm': False, 'wordy': False, 'ludwig': False, 'unempathetic': False, 'cringes': False, 'creepier': False, 'beckham': False, 'mesa': False, 'rabbinical': False, 'outpaced': False, 'solutions': False, 'husk': False, 'whitfeld': False, 'attorney': False, 's': True, 'timoney': False, 'withdrew': False, 'laboring': False, 'blane': False, 'generating': False, 'shopgirl': False, 'undoings': False, 'tapeheads': False, 'tong': False, 'swindles': False, 'dwarfism': False, 'solemn': False, 'kat': False, 'drawl': False, 'leppenraub': False, 'palaces': False, 'carpenters': False, 'flatness': False, 'annoyingly': False, 'loving': True, 'judged': False, 'complains': False, 'palance': False, 'undiscovered': False, 'wishes': False, 'deborah': False, '1914': False, 'jetliners': False, 'scalise': False, 'carpenter': False, '2000': False, 'dell': False, 'kubrickesque': False, 'monastery': False, 'creator': False, 'dated': False, 'handle': False, 'slightly': False, 'boardwalk': False, 'meditation': False, 'preserve': False, 'simonesque': False, 'organa': False, 'concealing': False, 'pris': False, 'lulling': False, 'calderon': False, 'explantion': False, 'smiles': False, 'bandits': False, 'resists': False, 'klump': False, 'petals': False, 'giveaways': False, 'opposition': False, 'revengeful': False, 'dialogue': False, 'hooted': False, 'perspectives': False, 'desensitization': False, 'bombastic': False, 'means': False, 'kassovitz': False, 'longshank': False, 'greggory': False, 'characterizations': False, 'unleashing': False, 'dethrones': False, 'munundated': False, 'suspend': False, 'asian': False, 'reissues': False, 'britain': False, 'jeep': False, 'deflated': False, 'wonderful': False, 'spies': False, 'sternly': False, 'unfulfilled': False, 'terrors': False, 'musically': False, 'groundbreakingly': False, 'police': False, 'stability': False, 'jaoui': False, '426': False, 'havilland': False, 'gurian': False, 'nutsy': False, 'meetings': False, 'bellylaughs': False, 'niall': False, 'maddux': False, 'varies': False, 'bloomingdale': False, 'massive': False, 'glassworks': False, 'kink': False, 'wkrp': False, 'emits': False, 'promoter': False, 'ashley': False, 'burwell': False, 'squeezes': False, 'waspy': False, 'timers': False, 'misjudgment': False, 'hamm': False, 'analee': False, 'booby': False, 'ted': False, 'matrix': False, 'shacks': False, 'undresses': False, 'laserdisc': False, 'puerile': False, 'parallelism': False, 'washout': False, 'equipped': False, 'broadens': False, 'solved': False, 'eclipse': False, 'fences': False, 'dew': False, 'amusement': False, 'bulging': False, 'inundation': False, 'tropps': False, 'mummy': False, 'recollections': False, 'huff': False, 'byrd': False, 'executes': False, 'sister': True, 'expand': False, 'clive': False, 'mcclements': False, 'matewan': False, 'excruciatingly': False, 'portinari': False, 'nite': False, 'assembling': False, 'initiate': False, 'inuits': False, 'halting': False, 'raining': False, 'portal': False, 'rampage': False, 'ignites': False, 'coffins': False, 'kiss': True, 'shou': False, 'judith': False, 'goldmine': False, 'pixote': False, 'killing': False, '31st': False, 'portraying': False, 'vansihes': False, 'nominated': False, 'perverse': False, 'chaps': False, 'theron': False, 'labels': False, 'refrain': False, 'prosecute': False, 'disarming': False, 'cauldron': False, 'lovlier': False, 'banned': False, 'horror': False, 'condescension': False, 'volcano': False, 'threat': False, 'materialized': False, 'thunderously': False, 'applies': False, 'bondage': False, 'telepathic': False, 'persist': False, 'gun': False, 'bogg': False, 'sequelitis': False, 'nintendo': False, 'stritch': False, 'mimics': False, 'hebrews': False, 'gorier': False, 'confusingly': False, '``': False, 'comprehensive': False, 'hopelessness': True, 'pisses': False, 'cpr': False, 'distinguished': False, 'gridlock': False, 'listens': False, 'crew': False, 'contested': False, 'unashamedly': False, 'kingdom': False, 'pratfalling': False, 'elasped': False, 'borrowings': False, 'dwarfed': False, 'diary': False, 'roomie': False, 'skewered': False, 'underwater': False, 'time': True, 'supplying': False, 'taks': False, 'unjust': False, 'placements': False, 'thong': False, 'aunts': False, 'predetermine': False, 'newbies': False, 'vulcan': False, 'established': False, 'depressant': False, 'bend': False, 'passive': False, 'aramis': False, 'purports': False, 'imports': False, 'teens': False, 'decisive': False, 'alamo': False, 'macabre': False, 'satine': False, 'prints': False, 'cloudy': False, 'degenerate': False, 'sufis': False, 'flamethrowers': False, 'ruin': False, 'bests': False, 'cyr': False, 'highlight': False, 'disobeys': False, 'boyum': False, 'berzerk': False, 'lision': False, 'sexually': False, 'forbid': False, 'boastfully': False, 'alleyways': False, 'fairy': False, 'unctuous': False, 'pap': False, 'pulling': False, 'procol': False, 'potente': False, 'hayman': False, 'restores': False, 'deeply': False, 'masquerade': False, 'advertised': False, 'assimilation': False, 'arena': False, 'bartholomew': False, 'maya': False, 'torturer': False, 'verification': False, 'drizzling': False, 'proceeder': False, 'myths': False, 'shockingly': False, 'cobra': False, 'colonist': False, 'actress': False, 'kilometres': False, 'statham': False, 'y2k': False, 'sucking': False, 'lyle': False, 'isolated': False, 'eartha': False, 'muth': False, 'humphrey': False, 'burger': False, 'select': False, 'viscous': False, 'insulated': False, 'narrative': False, 'infinite': False, 'defy': False, 'arriving': False, 'satisfied': False, 'lighted': False, 'dots': False, 'hark': False, 'gratifying': False, 'light': False, 'amenities': False, 'bullying': False, 'arachnid': False, 'hours': False, 'potions': False, 'swat': False, '130': False, 'everton': False, 'portillo': False, 'horts': False, 'chapters': False, 'bont': False, 'sprinklers': False, 'mcteer': False, 'meanwhile': False, 'virginie': False, 'stagnant': False, 'reynaud': False, 'hatches': False, 'cinnamon': False, 'ruminations': False, 'misused': False, 'emerson': False, 'deserter': False, 'sockets': False, 'loincloth': False, 'arctic': False, 'preferences': False, 'stifles': False, 'stunt': False, 'gimme': False, 'outperform': False, 'gunned': False, 'stumble': False, 'totals': False, 'avoid': False, 'kerry': True, 'xxv': False, 'distance': False, 'replica': False, 'electronically': False, 'soprano': False, 'phelps': False, 'kevil': False, 'furiously': False, 'sciora': False, 'torah': False, 'frames': False, 'obsesses': False, 'mascot': False, 'poombah': False, 'novicorp': False, 'carnal': False, 'aroway': False, 'uncritical': False, 'lions': False, 'nine': True, 'straws': False, 'damping': False, 'pickup': False, 'mayer': False, 'caricaturist': False, 'hotel': False, 'lopsided': False, 'crabby': False, 'presidency': False, 'braced': False, 'peephole': False, 'venus': False, 'beckon': False, 'construction': False, 'chunk': False, 'stead': False, 'decreed': False, 'bash': False, 'flip': False, 'beckel': False, 'allotted': False, 'proposals': False, 'instructs': False, 'animes': False, 'seizure': False, 'lewd': False, 'danish': False, 'audiences': False, 'nicol': False, 'wickedness': False, 'weendigo': False, 'scale': False, 'technicians': False, 'cribbed': False, 'disarray': False, 'appendaged': False, 'magic_': False, 'mansley': False, 'oomph': False, 'dialects': False, 'odious': False, 'agonizing': False, 'lethargic': False, 'panel': False, 'ulterior': False, 'worlds': False, 'pledging': False, 'pander': False, 'whence': False, 'sinker': False, 'snare': False, 'derivitive': False, 'russel': False, 'titled': False, 'betrayed': False, 'willson': False, 'dumbo': False, '250': False, 'borrowing': False, 'dramatic': False, 'transpire': False, 'macht': False, 'rochelle': False, 'brosse': False, 'ratchet': False, 'commencing': False, 'gravesite': False, 'foiled': False, 'schmooze': False, 'hank': False, 'stansfield': False, '6000': False, 'exciting': False, 'unbridled': False, 'mone': False, 'morsels': False, 'laughs': False, 'revisions': False, 'mahal': False, 'flourish': False, 'gourmets': False, 'implicitly': False, 'lestat': False, 'mannerisms': False, 'funk': False, 'freud': False, 'subject': False, 'gough': False, 'mathematics': False, 'kid': False, 'crucifix': False, 'abdul': False, 'hippyish': False, 'ingenious': False, 'shoved': False, 'greediest': False, 'womens': False, 'goldfish': False, 'cohesion': False, 'mol': False, 'placement': False, 'skinny': False, 'condoms': False, 'invade': False, 'divulging': False, 'rockies': False, 'directoral': False, 'persson': False, 'landed': False, 'diabolically': False, 'befriended': False, 'overlook': False, 'storytellers': False, 'causes': True, 'exiled': False, 'fireball': False, 'gel': False, 'reserve': False, 'kickboxer': False, 'easiest': False, 'admittedly': False, 'outdoors': False, 'agnes': False, 'explored': False, 'informs': False, 'yugoslavian': False, 'clumsy': False, 'status': False, 'grieg': False, 'hinges': False, 'maids': False, 'firm': False, 'twit': False, 'pastier': False, 'megahit': False, 'repetitiously': False, 'hemant': False, 'hefnerism': False, 'necks': False, 'neurological': False, 'pucci': False, 'iconography': False, 'abominable': False, 'statuette': False, 'anybody': False, 'oppressed': False, 'jittery': False, 'digestions': False, 'hadn': False, 'sack': False, 'escher': False, 'directing': False, 'sian': False, 'condemnation': False, 'tinted': False, 'grandpa': False, 'noraruth': False, 'talmudic': False, 'allegedly': False, 'chill': False, 'leaves': False, 'hormonal': False, 'figures': False, 'page': False, 'encompass': False, 'ferrets': False, '104': False, 'misappropriating': False, 'kevlar': False, 'indecisive': False, 'ceo': False, 'hyman': False, 'concurs': False, 'airline': False, 'overseen': False, 'carvey': False, 'unispiring': False, 'novel': False, 'jerome': False, 'pools': False, 'lizards': False, 'sadness': False, 'minutely': False, 'instills': False, 'shifty': False, 'magnificent': False, 'crack': False, 'stillness': False, 'rookie': False, 'jedi': False, 'inherently': False, 'kremp': False, 'denizens': False, 'retirement': False, 'vips': False, 'sticky': False, 'loni': False, 'scene': True, 'majpr': False, 'confronted': False, 'console': False, 'braces': False, 'edification': False, 'emphasizing': False, 'requirement': False, 'dusted': False, 'argues': False, 'slaughterhouse': False, 'skeet': False, 'blows': False, 'jumps': False, 'amounting': False, 'conservative': False, 'ravages': False, 'giosue': False, 'mppa': False, 'rips': False, 'pillsbury': False, 'macnee': False, 'colonized': False, 'anonymous': False, 'harrigan': False, 'heels': False, 'lili': False, 'beauties': False, 'bartusiak': False, 'kitsch': False, 'lunatics': False, 'slammer': False, 'brothels': False, 'aped': False, 'traveller': False, 'suspends': False, 'corvette': False, 'dustin': False, 'observations': False, 'resting': False, 'sports': False, 'hallucinates': False, 'worrall': False, 'uuuhmm': False, 'megalomaniac': False, 'hatable': False, 'west': False, 'nadja': False, 'ammunition': False, 'irritate': False, 'cheap': False, 'penitentiary': False, 'dabbling': False, 'molten': False, 'participating': False, 'shel': False, 'one_': False, 'gunshots': False, 'watcher': False, 'lohan': False, 'natassja': False, 'cecil': False, 'convicts': False, 'rating': False, 'tank': False, 'frontal': False, 'gleason': False, 'assembly': False, 'contact': False, 'rugby': False, 'christiane': False, 'cellophane': False, 'praises': False, 'bancroft': False, 'coaxes': False, 'gras': False, 'bootleg': False, 'gizmo': False, 'hypochondriac': False, 'badlands': False, 'gantry': False, 'penultimate': False, 'isles': False, 'mcarthur': False, 'howewer': False, 'ku': False, 'unobjective': False, 'santo': False, 'boggles': False, 'assuaged': False, 'detestable': False, 'honeymooning': False, '1985': False, 'arms': False, 'voluminous': False, 'inclosed': False, 'swirling': False, 'knuckleheads': False, 'oracle': False, 'gies': False, 'blitzstein': False, 'reconnect': False, 'hardheaded': False, 'kersey': False, 'criticisms': False, 'rail': False, 'hopping': False, 'dome': False, 'jonathan': False, 'karina': False, 'valentine': False, 'gomer': False, 'nocturnal': False, 'predicated': False, 'rhapsodic': False, 'arbitrary': False, 'filmmkaing': False, 'liverpool': False, 'out': True, 'fowl': False, 'millieu': False, 'kirbys': False, 'artsy': False, 'stints': False, 'rivka': False, 'brood': False, 'colonization': False, 'retrieved': False, 'roebuck': False, 'nasties': False, 'involvement': False, 'chin': False, 'bondian': False, 'jumbled': False, 'cereal': False, 'whitaker': False, '_dead_': False, 'blessed': False, 'preface': False, 'centenial': False, 'rookies': False, 'fasano': False, 'sonar': False, 'manchu': False, 'exterminate': False, 'stealer': False, 'ducastel': False, '_people_': False, 'orgiastic': False, 'twitch': False, 'townsgirl': False, 'denounce': False, 'uninspiring': False, 'riggs': False, 'sociology': False, 'engelman': False, 'denzel': False, 'illusionists': False, 'torches': False, 'bangs': False, 'disdain': False, '_too_': False, 'sanguine': False, 'entertaning': False, 'url': False, 'uniqe': False, 'splein': False, 'maude': False, 'sidekicks': False, 'defect': False, 'playhouse': False, 'holodeck': False, 'privy': False, 'brosnon': False, 'confines': False, 'fabrice': False, 'heretical': False, 'fallible': False, 'courtesan': False, 'johnston': False, 'floom': False, 'proverb': False, 'marrakech': False, 'hinwood': False, 'masaya': False, 'doyle': False, 'safari': False, 'isaacman': False, 'roping': False, 'disclose': False, 'mechanized': False, 'mastering': False, 'ensnare': False, 'zigs': False, 'hungry': False, 'prudish': False, 'paglia': False, 'gardner': False, 'deluding': False, 'detractions': False, 'supplement': False, 'restraints': False, 'duc': False, 'scribbles': False, 'intangible': False, 'lionized': False, 'recluse': False, 'mushu': False, 'hurting': False, 'harrelson': False, 'deguerin': False, 'smithee': False, 'criticize': False, 'kleiser': False, 'tolkan': False, 'armada': False, 'brinks': False, 'rhetoric': False, 'balancing': False, 'symbols': False, 'sen': False, 'reproduced': False, 'tracked': False, 'enlistees': False, 'tainsy': False, 'supervillain': False, 'breillat': False, 'recovery': False, 'karen': False, 'chunky': False, 'valmont': False, 'misunderstanding': False, 'noho': False, 'creaking': False, 'avenge': False, 'tennille': False, 'sponsorship': False, 'exceptions': False, 'monarchy': False, 'riker': False, 'engulfed': False, 'weissmuller': False, 'frankfurters': False, 'blackest': False, 'ww': False, 'nello': False, 'per': False, 'willem': False, 'berates': False, 'technique': False, 'beatific': False, 'crusades': False, 'affraid': False, 'pirahna': False, 'elna': False, 'irrationality': False, 'zealots': False, 'manually': False, 'comprehension': False, 'refining': False, 'stun': False, 'jemima': False, 'reached': False, '25': False, 'stitching': False, 'minimalistic': False, 'vices': False, 'mechanical': False, 'arguing': False, 'vi': False, 'gladstone': False, 'pack': False, 'kooky': False, 'collage': False, 'robe': False, 'olivia': False, 'enrols': False, 'guitars': False, 'sinuous': False, 'imminent': False, 'whetted': False, 'raking': False, 'hawkes': False, 'materialistic': False, 'endanger': False, 'ligaments': False, 'housewife': True, 'jazzed': False, 'revelry': False, 'savor': False, 'meanness': False, 'boing': False, 'requisitive': False, 'sucessful': False, 'dun': False, 'connotations': False, 'taxed': False, 'fleabag': False, 'snitch': False, 'vanquish': False, 'bongos': False, 'vukovich': False, 'doobie': False, 'imho': False, 'bille': False, 'unrealistic': False, 'decalogue': False, 'garrison': False, 'orientated': False, 'yourself': False, 'bootsy': False, 'loners': False, 'dre': False, 'criticism': False, 'dairies': False, 'chet': False, 'whedon': False, 'coverage': False, 'implicit': False, 'differnt': False, 'prejudiced': False, 'earned': False, '2029': False, 'mongkut': False, 'pomade': False, 'parliamentary': False, 'maid': False, 'classify': False, 'railing': False, 'cardiac': False, 'blow': False, 'horrocks': False, 'motion': False, 'hinky': False, 'stomping': False, 'blockade': False, 'christianson': False, 'ebeneezer': False, 'thorn': False, 'eggert': False, 'imbibed': False, 'coruscant': False, 'inhabits': False, 'roof': False, 'tumultuosness': False, 'shrugging': False, 'stretching': False, 'innate': False, 'diner': False, 'forebodings': False, 'shoulda': False, 'naseeruddin': False, 'bombay': False, 'koons': False, 'flounders': False, 'uuuhhmmm': False, 'bedroom': False, 'recommendable': False, 'coulmier': False, 'arabian': False, 'mugshots': False, 'rambunctous': False, 'unrewarding': False, 'surmises': False, 'attentiveness': False, 'solo': False, 'glides': False, 'hug': False, 'keller': True, '=======================': False, 'complemented': False, 'clinches': False, 'colonialists': False, 'proposition': False, 'jells': False, 'wwi': False, 'rosette': False, 'predominantly': False, 'shell_': False, 'hass': False, 'bogus': False, '_red': False, 'sorrows': False, 'karey': False, 'unapologetic': False, 'konner': False, 'leboswki': False, 'planchet': False, 'fathered': False, 'tannek': False, 'offends': False, 'candour': False, 'bomber': False, '_the_broadway_musical_': False, 'hoop': False, 'yuri': False, 'goofing': False, 'taj': False, 'uncharacteristic': False, 'words': False, 'ppk': False, 'audiotapes': False, 'baddass': False, 'solitary': False, 'scumbagginess': False, 'profondo': False, 'hanksian': False, 'shapechanging': False, 'zhuangzhuang': False, 'noticably': False, 'brs': False, 'kell': False, 'proselytize': False, 'wellness': False, 'gunga': False, 'odin': False, 'munchie': False, 'redeems': False, 'arrows': False, 'erasing': False, 'ecologist': False, 'occupants': False, 'palladino': False, 'pride': False, 'attila': False, 'corpses': False, 'fluids': False, 'campfest': False, 'muddy': False, 'favours': False, 'rossio': False, 'pillaged': False, 'forgiven': False, 'valids': False, 'quashed': False, 'expediency': False, 'hid': False, 'expanding': False, '1700s': False, 'undo': False, 'protest': False, 'esoteric': False, 'rooms': False, 'spellbinding': False, 'fossils': False, 'brancia': False, 'evidencing': False, 'purged': False, 'faring': False, 'newest': False, 'neigbors': False, 'maka': False, 'arditi': False, 'bohemians': False, 'screenwriter': False, 'pitchfork': False, 'tactile': False, 'puh': False, 'militants': False, 'illiterate': False, 'dumpster': False, 'lasers': False, 'jost': False, 'lantos': False, 'glasnost': False, 'pervasive': False, 'fracturing': False, 'addicted': False, 'overworking': False, 'scalding': False, 'reddick': False, 'visitor': False, 'severity': False, 'squinty': False, 'yapping': False, 'putrefaction': False, 'abundance': False, 'knepper': False, 'soldini': False, 'separatist': False, 'boots': False, 'smiling': False, 'tolls': False, 'drix': False, 'malcovich': False, 'yossef': False, 'eli': False, 'talons': False, 'emo': False, 'swarmed': False, 'oblique': False, 'hotmail': False, 'infiltrating': False, 'sooty': False, 'avika': False, 'upheld': False, 'loews': False, 'belated': False, 'notifying': False, 'genome': False, 'obscured': False, 'tubthumping': False, 'biographical': False, 'lovely': False, 'fists': False, 'contagion': False, 'recast': False, 'interconnectedness': False, 'dissappointed': False, 'executions': False, 'uglies': False, 'fictious': False, 'gashes': False, '_ferris': False, 'augmented': False, 'rang': False, 'shavenness': False, 'shoelaces': False, 'lebesco': False, 'mordantly': False, 'steaks': False, 'leeanne': False}, 'pos')\n"
     ]
    }
   ],
   "source": [
    "training_set=featuresets[:1900]\n",
    "testing_set=featuresets[1900:]\n",
    "print(training_set[0])"
   ]
  },
  {
   "cell_type": "code",
   "execution_count": 9,
   "metadata": {
    "collapsed": false
   },
   "outputs": [
    {
     "name": "stdout",
     "output_type": "stream",
     "text": [
      "Naive Bayes Algo accuracy percent 0.67\n"
     ]
    }
   ],
   "source": [
    "classifier=nltk.NaiveBayesClassifier.train(training_set)\n",
    "print(\"Naive Bayes Algo accuracy percent\", nltk.classify.accuracy(classifier,testing_set))"
   ]
  },
  {
   "cell_type": "code",
   "execution_count": 10,
   "metadata": {
    "collapsed": false
   },
   "outputs": [
    {
     "name": "stdout",
     "output_type": "stream",
     "text": [
      "Most Informative Features\n",
      "             fascination = True              pos : neg    =     11.0 : 1.0\n",
      "                 symbols = True              pos : neg    =      7.0 : 1.0\n",
      "               balancing = True              pos : neg    =      7.0 : 1.0\n",
      "                 amateur = True              neg : pos    =      7.0 : 1.0\n",
      "                  coyote = True              neg : pos    =      7.0 : 1.0\n",
      "             magnificent = True              pos : neg    =      6.6 : 1.0\n",
      "              ineptitude = True              neg : pos    =      6.3 : 1.0\n",
      "              annoyingly = True              neg : pos    =      6.3 : 1.0\n",
      "                  turkey = True              neg : pos    =      5.9 : 1.0\n",
      "            thematically = True              pos : neg    =      5.7 : 1.0\n",
      "                  argues = True              pos : neg    =      5.7 : 1.0\n",
      "                     liu = True              neg : pos    =      5.7 : 1.0\n",
      "                  skimpy = True              neg : pos    =      5.7 : 1.0\n",
      "                chilling = True              pos : neg    =      5.6 : 1.0\n",
      "                 matches = True              pos : neg    =      5.4 : 1.0\n"
     ]
    }
   ],
   "source": [
    "classifier.show_most_informative_features(15)"
   ]
  },
  {
   "cell_type": "markdown",
   "metadata": {},
   "source": [
    "# Saving classifier with nltk using pickle"
   ]
  },
  {
   "cell_type": "code",
   "execution_count": 11,
   "metadata": {
    "collapsed": true
   },
   "outputs": [],
   "source": [
    "import pickle\n",
    "\n",
    "save_classifier=open(\"naivebayes.pickle\",\"wb\")\n",
    "pickle.dump(classifier,save_classifier)\n",
    "save_classifier.close()\n",
    "\n"
   ]
  },
  {
   "cell_type": "markdown",
   "metadata": {},
   "source": [
    "# retriving classifier"
   ]
  },
  {
   "cell_type": "code",
   "execution_count": 12,
   "metadata": {
    "collapsed": false
   },
   "outputs": [
    {
     "name": "stdout",
     "output_type": "stream",
     "text": [
      "Most Informative Features\n",
      "             fascination = True              pos : neg    =     11.0 : 1.0\n",
      "                 symbols = True              pos : neg    =      7.0 : 1.0\n",
      "               balancing = True              pos : neg    =      7.0 : 1.0\n",
      "                 amateur = True              neg : pos    =      7.0 : 1.0\n",
      "                  coyote = True              neg : pos    =      7.0 : 1.0\n",
      "             magnificent = True              pos : neg    =      6.6 : 1.0\n",
      "              ineptitude = True              neg : pos    =      6.3 : 1.0\n",
      "              annoyingly = True              neg : pos    =      6.3 : 1.0\n",
      "                  turkey = True              neg : pos    =      5.9 : 1.0\n",
      "            thematically = True              pos : neg    =      5.7 : 1.0\n",
      "                  argues = True              pos : neg    =      5.7 : 1.0\n",
      "                     liu = True              neg : pos    =      5.7 : 1.0\n",
      "                  skimpy = True              neg : pos    =      5.7 : 1.0\n",
      "                chilling = True              pos : neg    =      5.6 : 1.0\n",
      "                 matches = True              pos : neg    =      5.4 : 1.0\n",
      "Naive Bayes Algo accuracy percent 67.0\n"
     ]
    }
   ],
   "source": [
    "classifier_f=open(\"naivebayes.pickle\",\"rb\")\n",
    "classifier=pickle.load(classifier_f)\n",
    "classifier_f.close()\n",
    "classifier.show_most_informative_features(15)\n",
    "print(\"Naive Bayes Algo accuracy percent\", 100*nltk.classify.accuracy(classifier,testing_set))"
   ]
  },
  {
   "cell_type": "markdown",
   "metadata": {},
   "source": [
    "# Scikit-Learn Sklearn with nltk"
   ]
  },
  {
   "cell_type": "code",
   "execution_count": 13,
   "metadata": {
    "collapsed": false
   },
   "outputs": [],
   "source": [
    "from nltk.classify.scikitlearn import SklearnClassifier\n",
    "from sklearn.naive_bayes import MultinomialNB,GaussianNB,BernoulliNB\n",
    "\n"
   ]
  },
  {
   "cell_type": "code",
   "execution_count": 14,
   "metadata": {
    "collapsed": false
   },
   "outputs": [
    {
     "name": "stdout",
     "output_type": "stream",
     "text": [
      "MNB_classifier accuracy percent: 71.0\n"
     ]
    }
   ],
   "source": [
    "\n",
    "MNB_classifier = SklearnClassifier(MultinomialNB())\n",
    "MNB_classifier.train(training_set)\n",
    "print(\"MNB_classifier accuracy percent:\", (nltk.classify.accuracy(MNB_classifier, testing_set))*100)\n"
   ]
  },
  {
   "cell_type": "code",
   "execution_count": 15,
   "metadata": {
    "collapsed": false
   },
   "outputs": [
    {
     "name": "stdout",
     "output_type": "stream",
     "text": [
      "BernoulliNB_classifier accuracy percent: 68.0\n"
     ]
    }
   ],
   "source": [
    "\n",
    "BernoulliNB_classifier = SklearnClassifier(BernoulliNB())\n",
    "BernoulliNB_classifier.train(training_set)\n",
    "print(\"BernoulliNB_classifier accuracy percent:\", (nltk.classify.accuracy(BernoulliNB_classifier, testing_set))*100)\n"
   ]
  },
  {
   "cell_type": "code",
   "execution_count": 16,
   "metadata": {
    "collapsed": true
   },
   "outputs": [],
   "source": [
    "from sklearn.linear_model import LogisticRegression,SGDClassifier\n",
    "from sklearn.svm import SVC, LinearSVC, NuSVC\n"
   ]
  },
  {
   "cell_type": "code",
   "execution_count": 17,
   "metadata": {
    "collapsed": false
   },
   "outputs": [
    {
     "name": "stdout",
     "output_type": "stream",
     "text": [
      "LogisticRegression_classifier accuracy percent: 67.0\n"
     ]
    }
   ],
   "source": [
    "LogisticRegression_classifier = SklearnClassifier(LogisticRegression())\n",
    "LogisticRegression_classifier.train(training_set)\n",
    "print(\"LogisticRegression_classifier accuracy percent:\", (nltk.classify.accuracy(LogisticRegression_classifier, testing_set))*100)"
   ]
  },
  {
   "cell_type": "code",
   "execution_count": 18,
   "metadata": {
    "collapsed": false
   },
   "outputs": [
    {
     "name": "stdout",
     "output_type": "stream",
     "text": [
      "SGDClassifier_classifier accuracy percent: 70.0\n"
     ]
    }
   ],
   "source": [
    "SGDClassifier_classifier = SklearnClassifier(SGDClassifier())\n",
    "SGDClassifier_classifier.train(training_set)\n",
    "print(\"SGDClassifier_classifier accuracy percent:\", (nltk.classify.accuracy(SGDClassifier_classifier, testing_set))*100)\n"
   ]
  },
  {
   "cell_type": "code",
   "execution_count": 19,
   "metadata": {
    "collapsed": false
   },
   "outputs": [
    {
     "name": "stdout",
     "output_type": "stream",
     "text": [
      "SVC_classifier accuracy percent: 49.0\n"
     ]
    }
   ],
   "source": [
    "SVC_classifier = SklearnClassifier(SVC())\n",
    "SVC_classifier.train(training_set)\n",
    "print(\"SVC_classifier accuracy percent:\", (nltk.classify.accuracy(SVC_classifier, testing_set))*100)\n"
   ]
  },
  {
   "cell_type": "code",
   "execution_count": 20,
   "metadata": {
    "collapsed": false
   },
   "outputs": [
    {
     "name": "stdout",
     "output_type": "stream",
     "text": [
      "LinearSVC_classifier accuracy percent: 69.0\n"
     ]
    }
   ],
   "source": [
    "LinearSVC_classifier = SklearnClassifier(LinearSVC())\n",
    "LinearSVC_classifier.train(training_set)\n",
    "print(\"LinearSVC_classifier accuracy percent:\", (nltk.classify.accuracy(LinearSVC_classifier, testing_set))*100)\n"
   ]
  },
  {
   "cell_type": "code",
   "execution_count": 21,
   "metadata": {
    "collapsed": false
   },
   "outputs": [
    {
     "name": "stdout",
     "output_type": "stream",
     "text": [
      "NuSVC_classifier accuracy percent: 69.0\n"
     ]
    }
   ],
   "source": [
    "\n",
    "NuSVC_classifier = SklearnClassifier(NuSVC())\n",
    "NuSVC_classifier.train(training_set)\n",
    "print(\"NuSVC_classifier accuracy percent:\", (nltk.classify.accuracy(NuSVC_classifier, testing_set))*100)"
   ]
  },
  {
   "cell_type": "markdown",
   "metadata": {
    "collapsed": true
   },
   "source": [
    "# Combining Algorithm"
   ]
  },
  {
   "cell_type": "code",
   "execution_count": 22,
   "metadata": {
    "collapsed": false
   },
   "outputs": [],
   "source": [
    "from nltk.classify import ClassifierI\n",
    "from statistics import mode\n",
    "class VoteClassifier(ClassifierI):\n",
    "    def __init__(self,*classifiers):\n",
    "        self._classifiers=classifiers\n",
    "    def classify(self,features):\n",
    "        votes=[]\n",
    "        for c in self._classifiers:\n",
    "            v=c.classify(features)\n",
    "            votes.append(v)\n",
    "        return mode(votes)\n",
    "    def confidence(self,features):\n",
    "        votes=[]\n",
    "        for c in self._classifiers:\n",
    "            v = c.classify(features)\n",
    "            votes.append(v)\n",
    "        choice_votes=votes.count(mode(votes))\n",
    "        conf=choice_votes/len(votes)\n",
    "        return conf\n",
    "\n"
   ]
  },
  {
   "cell_type": "code",
   "execution_count": 23,
   "metadata": {
    "collapsed": false
   },
   "outputs": [],
   "source": [
    "voted_classifier=VoteClassifier(classifier,\n",
    "                                NuSVC_classifier,\n",
    "                                LinearSVC_classifier,\n",
    "                                SGDClassifier_classifier,\n",
    "                                MNB_classifier,\n",
    "                                BernoulliNB_classifier,\n",
    "                                LogisticRegression_classifier)"
   ]
  },
  {
   "cell_type": "code",
   "execution_count": 24,
   "metadata": {
    "collapsed": false
   },
   "outputs": [
    {
     "name": "stdout",
     "output_type": "stream",
     "text": [
      "voted_classifier accuracy percent: 71.0\n",
      "Classification: pos Confidence %: 71.42857142857143\n",
      "Classification: pos Confidence %: 100.0\n",
      "Classification: pos Confidence %: 100.0\n",
      "Classification: pos Confidence %: 57.14285714285714\n",
      "Classification: neg Confidence %: 57.14285714285714\n",
      "Classification: pos Confidence %: 100.0\n"
     ]
    }
   ],
   "source": [
    "print(\"voted_classifier accuracy percent:\", (nltk.classify.accuracy(voted_classifier, testing_set))*100)\n",
    "\n",
    "print(\"Classification:\", voted_classifier.classify(testing_set[0][0]), \"Confidence %:\",voted_classifier.confidence(testing_set[0][0])*100)\n",
    "print(\"Classification:\", voted_classifier.classify(testing_set[1][0]), \"Confidence %:\",voted_classifier.confidence(testing_set[1][0])*100)\n",
    "print(\"Classification:\", voted_classifier.classify(testing_set[2][0]), \"Confidence %:\",voted_classifier.confidence(testing_set[2][0])*100)\n",
    "print(\"Classification:\", voted_classifier.classify(testing_set[3][0]), \"Confidence %:\",voted_classifier.confidence(testing_set[3][0])*100)\n",
    "print(\"Classification:\", voted_classifier.classify(testing_set[4][0]), \"Confidence %:\",voted_classifier.confidence(testing_set[4][0])*100)\n",
    "print(\"Classification:\", voted_classifier.classify(testing_set[5][0]), \"Confidence %:\",voted_classifier.confidence(testing_set[5][0])*100)"
   ]
  },
  {
   "cell_type": "code",
   "execution_count": null,
   "metadata": {
    "collapsed": true
   },
   "outputs": [],
   "source": []
  }
 ],
 "metadata": {
  "anaconda-cloud": {},
  "kernelspec": {
   "display_name": "Python [default]",
   "language": "python",
   "name": "python3"
  },
  "language_info": {
   "codemirror_mode": {
    "name": "ipython",
    "version": 3
   },
   "file_extension": ".py",
   "mimetype": "text/x-python",
   "name": "python",
   "nbconvert_exporter": "python",
   "pygments_lexer": "ipython3",
   "version": "3.5.2"
  }
 },
 "nbformat": 4,
 "nbformat_minor": 1
}

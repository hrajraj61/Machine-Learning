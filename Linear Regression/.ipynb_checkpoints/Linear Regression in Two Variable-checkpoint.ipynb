{
 "cells": [
  {
   "cell_type": "markdown",
   "metadata": {
    "nbpresent": {
     "id": "07152799-9d76-4149-a2b6-bf68ecdb6db1"
    },
    "slideshow": {
     "slide_type": "slide"
    }
   },
   "source": [
    "# Linear Regression \n",
    "    This is a supervised machine learning where the output is depend on single variale\n",
    "    i.e.\n",
    "        y = f ( x )\n",
    "        y = m * x + c\n",
    "        here we will use two formula to find m,c value.\n",
    "    \n",
    "    Formula - 1)\n",
    "    \n",
    "        m =  Σ (( x - xi ) * ( y - yi ))/ Σ ( x - xi )^2\n",
    "        c = yi - m * xi\n",
    "                \n",
    "                               where,\n",
    "                                     xi = mean( x )\n",
    "                                     yi = mean( y )\n",
    "                                     \n",
    "       So, below is the model to create Linear Regression Model\n",
    "         "
   ]
  },
  {
   "cell_type": "code",
   "execution_count": 38,
   "metadata": {
    "collapsed": true,
    "nbpresent": {
     "id": "d372c36c-43c0-46b8-b378-832dda4a2928"
    },
    "slideshow": {
     "slide_type": "slide"
    }
   },
   "outputs": [],
   "source": [
    "#importing required package\n",
    "import numpy as np\n",
    "import matplotlib.pyplot as plt\n",
    "%matplotlib inline"
   ]
  },
  {
   "cell_type": "code",
   "execution_count": 39,
   "metadata": {
    "collapsed": true,
    "nbpresent": {
     "id": "c061e61a-d070-48e5-a9e1-fa54c7f39ca2"
    },
    "slideshow": {
     "slide_type": "slide"
    }
   },
   "outputs": [],
   "source": [
    "#Linear Regression Model - I\n",
    "class LR:\n",
    "    m,c=None,None\n",
    "    def fit(self,x,y):\n",
    "        x_mean=np.mean(x)\n",
    "        y_mean=np.mean(y)\n",
    "        xd=x-x_mean\n",
    "        yd=y-y_mean\n",
    "        ns=xd*yd\n",
    "        ds=xd*xd\n",
    "        self.m=np.sum(ns)/np.sum(ds)\n",
    "        self.c=y_mean-x_mean*self.m\n",
    "    def predict(self,x):\n",
    "        return self.m*x+self.c"
   ]
  },
  {
   "cell_type": "markdown",
   "metadata": {
    "nbpresent": {
     "id": "94d96bf4-9495-48ed-aaf8-f373b0d9c696"
    },
    "slideshow": {
     "slide_type": "slide"
    }
   },
   "source": [
    "## Training and Testing the model"
   ]
  },
  {
   "cell_type": "code",
   "execution_count": 37,
   "metadata": {
    "collapsed": false,
    "nbpresent": {
     "id": "7c0434f3-f154-4067-bc12-af0d4c87d276"
    },
    "scrolled": false,
    "slideshow": {
     "slide_type": "slide"
    }
   },
   "outputs": [
    {
     "data": {
      "image/png": "[encoded data removed]",
      "text/plain": [
       "<matplotlib.figure.Figure at 0x12132b0>"
      ]
     },
     "metadata": {},
     "output_type": "display_data"
    }
   ],
   "source": [
    "x=np.array([1,2,3,4,5,6,7],dtype=np.float)\n",
    "y=np.array([0,4,2,6,4,8,6],dtype=np.float)\n",
    "lr=LR()\n",
    "lr.fit(x,y)\n",
    "plt.scatter(x,y, color='red')\n",
    "for i_x, i_y in zip(x, y):\n",
    "    plt.text(i_x, i_y, ' ({}, {})'.format(i_x, i_y))\n",
    "    \n",
    "#showing the regression line of our trained model\n",
    "x1=np.array([0,max(x)])\n",
    "y1=lr.predict(x1)\n",
    "plt.plot(x1,y1,color=\"blue\")\n",
    "\n",
    "#Testing the result of new point\n",
    "x_test=2.9\n",
    "y_res=lr.predict(x_test)\n",
    "plt.scatter(x_test,y_res,color=\"green\")\n",
    "plt.text(x_test, y_res, '   Result-({}, {})'.format(x_test, \"%0.2f\"%y_res))\n",
    "\n",
    "#Adding additional information\n",
    "plt.title('Linear Regression with two variable(Method - I)')\n",
    "plt.xlabel('x-axis')\n",
    "plt.ylabel('y-axis')\n",
    "plt.show()"
   ]
  },
  {
   "cell_type": "markdown",
   "metadata": {
    "nbpresent": {
     "id": "1a528db3-af50-479d-8f93-adec402627ce"
    },
    "slideshow": {
     "slide_type": "slide"
    }
   },
   "source": [
    "## Method - II\n",
    "    \n",
    "        Now,  here we will be using root mean square minimisation method\n",
    "        \n",
    "            m = ( xi * yi - xyi )/( xi^2 - x2i )\n",
    "            c = yi - m * xi\n",
    "                                where,\n",
    "                                    xi = mean( x )\n",
    "                                    yi = mean( y )\n",
    "                                    x2i = mean( x^2 )\n",
    "                          \n"
   ]
  },
  {
   "cell_type": "code",
   "execution_count": null,
   "metadata": {
    "collapsed": true,
    "nbpresent": {
     "id": "17da018c-cb62-4b05-af14-f5f4be8aa591"
    },
    "slideshow": {
     "slide_type": "slide"
    }
   },
   "outputs": [],
   "source": [
    "class LRsm: # root square minimisation\n",
    "    m,c=None,None\n",
    "    def fit(self,x,y):\n",
    "        x_mean=np.mean(x)\n",
    "        y_mean=np.mean(y)\n",
    "        xy_mean=np.mean(x*y)\n",
    "        x_sq_mean=np.mean(x*x)\n",
    "        self.m=(x_mean*y_mean-xy_mean)/(x_mean*x_mean-x_sq_mean)\n",
    "        self.c=y_mean-x_mean*self.m\n",
    "    def predict(self,x):\n",
    "        return self.m*x+self.c"
   ]
  },
  {
   "cell_type": "markdown",
   "metadata": {
    "nbpresent": {
     "id": "6cf9e5e7-08e2-4b7b-962a-17437de97fee"
    },
    "slideshow": {
     "slide_type": "slide"
    }
   },
   "source": [
    "## Training and Testing the model"
   ]
  },
  {
   "cell_type": "code",
   "execution_count": 36,
   "metadata": {
    "collapsed": false,
    "nbpresent": {
     "id": "69fa9c0e-6122-48ab-a8ac-d772b1342d98"
    },
    "slideshow": {
     "slide_type": "slide"
    }
   },
   "outputs": [
    {
     "data": {
      "image/png": "[encoded data removed]",
      "text/plain": [
       "<matplotlib.figure.Figure at 0x1d1e750>"
      ]
     },
     "metadata": {},
     "output_type": "display_data"
    }
   ],
   "source": [
    "x=np.array([10,9,8,6,4,2,0],dtype=np.float)\n",
    "y=np.array([0,4,2,6,4,8,6],dtype=np.float)\n",
    "lr=LR()\n",
    "lr.fit(x,y)\n",
    "plt.scatter(x,y, color='red')\n",
    "for i_x, i_y in zip(x, y):\n",
    "    plt.text(i_x, i_y, ' ({}, {})'.format(i_x, i_y))\n",
    "#showing the regression line of our trained model\n",
    "x1=np.array([0,max(x)+1])\n",
    "y1=lr.predict(x1)\n",
    "plt.plot(x1,y1,color=\"blue\")\n",
    "#Testing the result of new point\n",
    "x_test=3.9\n",
    "y_res=lr.predict(x_test)\n",
    "plt.scatter(x_test,y_res,color=\"green\")\n",
    "plt.text(x_test, y_res, '   Result-({}, {})'.format(x_test, \"%0.2f\"%y_res))\n",
    "plt.title('Linear Regression with two variable(Method - II)')\n",
    "plt.xlabel('x-axis')\n",
    "plt.ylabel('y-axis')\n",
    "plt.show()"
   ]
  }
 ],
 "metadata": {
  "anaconda-cloud": {},
  "celltoolbar": "Slideshow",
  "kernelspec": {
   "display_name": "Python [conda env:Anaconda3]",
   "language": "python",
   "name": "conda-env-Anaconda3-py"
  },
  "language_info": {
   "codemirror_mode": {
    "name": "ipython",
    "version": 3
   },
   "file_extension": ".py",
   "mimetype": "text/x-python",
   "name": "python",
   "nbconvert_exporter": "python",
   "pygments_lexer": "ipython3",
   "version": "3.5.2"
  },
  "nbpresent": {
   "slides": {
    "e0374a16-d098-4b57-acc5-0c784ff45757": {
     "id": "e0374a16-d098-4b57-acc5-0c784ff45757",
     "layout": "grid",
     "prev": null,
     "regions": {
      "5b1c2a59-c5ec-42d2-ae08-73ed35e660e7": {
       "attrs": {
        "height": 1,
        "pad": 0.01,
        "width": 1,
        "x": 0,
        "y": 0
       },
       "content": {
        "cell": "07152799-9d76-4149-a2b6-bf68ecdb6db1",
        "part": "source"
       },
       "id": "5b1c2a59-c5ec-42d2-ae08-73ed35e660e7"
      }
     }
    }
   },
   "themes": {
    "default": "588b1679-3148-4c74-b886-de5cb9e077e4",
    "theme": {
     "19fba137-282e-42d4-88d6-878d0f40f4c4": {
      "backgrounds": {
       "dc7afa04-bf90-40b1-82a5-726e3cff5267": {
        "background-color": "31af15d2-7e15-44c5-ab5e-e04b16a89eff",
        "id": "dc7afa04-bf90-40b1-82a5-726e3cff5267"
       }
      },
      "id": "19fba137-282e-42d4-88d6-878d0f40f4c4",
      "palette": {
       "19cc588f-0593-49c9-9f4b-e4d7cc113b1c": {
        "id": "19cc588f-0593-49c9-9f4b-e4d7cc113b1c",
        "rgb": [
         252,
         252,
         252
        ]
       },
       "31af15d2-7e15-44c5-ab5e-e04b16a89eff": {
        "id": "31af15d2-7e15-44c5-ab5e-e04b16a89eff",
        "rgb": [
         68,
         68,
         68
        ]
       },
       "50f92c45-a630-455b-aec3-788680ec7410": {
        "id": "50f92c45-a630-455b-aec3-788680ec7410",
        "rgb": [
         197,
         226,
         245
        ]
       },
       "c5cc3653-2ee1-402a-aba2-7caae1da4f6c": {
        "id": "c5cc3653-2ee1-402a-aba2-7caae1da4f6c",
        "rgb": [
         43,
         126,
         184
        ]
       },
       "efa7f048-9acb-414c-8b04-a26811511a21": {
        "id": "efa7f048-9acb-414c-8b04-a26811511a21",
        "rgb": [
         25.118061674008803,
         73.60176211453744,
         107.4819383259912
        ]
       }
      },
      "rules": {
       "a": {
        "color": "19cc588f-0593-49c9-9f4b-e4d7cc113b1c"
       },
       "blockquote": {
        "color": "50f92c45-a630-455b-aec3-788680ec7410",
        "font-size": 3
       },
       "code": {
        "font-family": "Anonymous Pro"
       },
       "h1": {
        "color": "19cc588f-0593-49c9-9f4b-e4d7cc113b1c",
        "font-family": "Merriweather",
        "font-size": 8
       },
       "h2": {
        "color": "19cc588f-0593-49c9-9f4b-e4d7cc113b1c",
        "font-family": "Merriweather",
        "font-size": 6
       },
       "h3": {
        "color": "50f92c45-a630-455b-aec3-788680ec7410",
        "font-family": "Lato",
        "font-size": 5.5
       },
       "h4": {
        "color": "c5cc3653-2ee1-402a-aba2-7caae1da4f6c",
        "font-family": "Lato",
        "font-size": 5
       },
       "h5": {
        "font-family": "Lato"
       },
       "h6": {
        "font-family": "Lato"
       },
       "h7": {
        "font-family": "Lato"
       },
       "li": {
        "color": "50f92c45-a630-455b-aec3-788680ec7410",
        "font-size": 3.25
       },
       "pre": {
        "font-family": "Anonymous Pro",
        "font-size": 4
       }
      },
      "text-base": {
       "color": "19cc588f-0593-49c9-9f4b-e4d7cc113b1c",
       "font-family": "Lato",
       "font-size": 4
      }
     },
     "588b1679-3148-4c74-b886-de5cb9e077e4": {
      "backgrounds": {
       "dc7afa04-bf90-40b1-82a5-726e3cff5267": {
        "background-color": "31af15d2-7e15-44c5-ab5e-e04b16a89eff",
        "id": "dc7afa04-bf90-40b1-82a5-726e3cff5267"
       }
      },
      "id": "588b1679-3148-4c74-b886-de5cb9e077e4",
      "palette": {
       "19cc588f-0593-49c9-9f4b-e4d7cc113b1c": {
        "id": "19cc588f-0593-49c9-9f4b-e4d7cc113b1c",
        "rgb": [
         252,
         252,
         252
        ]
       },
       "31af15d2-7e15-44c5-ab5e-e04b16a89eff": {
        "id": "31af15d2-7e15-44c5-ab5e-e04b16a89eff",
        "rgb": [
         68,
         68,
         68
        ]
       },
       "50f92c45-a630-455b-aec3-788680ec7410": {
        "id": "50f92c45-a630-455b-aec3-788680ec7410",
        "rgb": [
         197,
         226,
         245
        ]
       },
       "c5cc3653-2ee1-402a-aba2-7caae1da4f6c": {
        "id": "c5cc3653-2ee1-402a-aba2-7caae1da4f6c",
        "rgb": [
         43,
         126,
         184
        ]
       },
       "efa7f048-9acb-414c-8b04-a26811511a21": {
        "id": "efa7f048-9acb-414c-8b04-a26811511a21",
        "rgb": [
         25.118061674008803,
         73.60176211453744,
         107.4819383259912
        ]
       }
      },
      "rules": {
       "a": {
        "color": "19cc588f-0593-49c9-9f4b-e4d7cc113b1c"
       },
       "blockquote": {
        "color": "50f92c45-a630-455b-aec3-788680ec7410",
        "font-size": 3
       },
       "code": {
        "font-family": "Anonymous Pro"
       },
       "h1": {
        "color": "19cc588f-0593-49c9-9f4b-e4d7cc113b1c",
        "font-family": "Merriweather",
        "font-size": 8
       },
       "h2": {
        "color": "19cc588f-0593-49c9-9f4b-e4d7cc113b1c",
        "font-family": "Merriweather",
        "font-size": 6
       },
       "h3": {
        "color": "50f92c45-a630-455b-aec3-788680ec7410",
        "font-family": "Lato",
        "font-size": 5.5
       },
       "h4": {
        "color": "c5cc3653-2ee1-402a-aba2-7caae1da4f6c",
        "font-family": "Lato",
        "font-size": 5
       },
       "h5": {
        "font-family": "Lato"
       },
       "h6": {
        "font-family": "Lato"
       },
       "h7": {
        "font-family": "Lato"
       },
       "li": {
        "color": "50f92c45-a630-455b-aec3-788680ec7410",
        "font-size": 3.25
       },
       "pre": {
        "font-family": "Anonymous Pro",
        "font-size": 4
       }
      },
      "text-base": {
       "color": "19cc588f-0593-49c9-9f4b-e4d7cc113b1c",
       "font-family": "Lato",
       "font-size": 4
      }
     },
     "a5191825-4b93-48a1-931c-b30358e2696c": {
      "backgrounds": {
       "dc7afa04-bf90-40b1-82a5-726e3cff5267": {
        "background-color": "31af15d2-7e15-44c5-ab5e-e04b16a89eff",
        "id": "dc7afa04-bf90-40b1-82a5-726e3cff5267"
       }
      },
      "id": "a5191825-4b93-48a1-931c-b30358e2696c",
      "palette": {
       "19cc588f-0593-49c9-9f4b-e4d7cc113b1c": {
        "id": "19cc588f-0593-49c9-9f4b-e4d7cc113b1c",
        "rgb": [
         252,
         252,
         252
        ]
       },
       "31af15d2-7e15-44c5-ab5e-e04b16a89eff": {
        "id": "31af15d2-7e15-44c5-ab5e-e04b16a89eff",
        "rgb": [
         68,
         68,
         68
        ]
       },
       "50f92c45-a630-455b-aec3-788680ec7410": {
        "id": "50f92c45-a630-455b-aec3-788680ec7410",
        "rgb": [
         197,
         226,
         245
        ]
       },
       "c5cc3653-2ee1-402a-aba2-7caae1da4f6c": {
        "id": "c5cc3653-2ee1-402a-aba2-7caae1da4f6c",
        "rgb": [
         43,
         126,
         184
        ]
       },
       "efa7f048-9acb-414c-8b04-a26811511a21": {
        "id": "efa7f048-9acb-414c-8b04-a26811511a21",
        "rgb": [
         25.118061674008803,
         73.60176211453744,
         107.4819383259912
        ]
       }
      },
      "rules": {
       "a": {
        "color": "19cc588f-0593-49c9-9f4b-e4d7cc113b1c"
       },
       "blockquote": {
        "color": "50f92c45-a630-455b-aec3-788680ec7410",
        "font-size": 3
       },
       "code": {
        "font-family": "Anonymous Pro"
       },
       "h1": {
        "color": "19cc588f-0593-49c9-9f4b-e4d7cc113b1c",
        "font-family": "Merriweather",
        "font-size": 8
       },
       "h2": {
        "color": "19cc588f-0593-49c9-9f4b-e4d7cc113b1c",
        "font-family": "Merriweather",
        "font-size": 6
       },
       "h3": {
        "color": "50f92c45-a630-455b-aec3-788680ec7410",
        "font-family": "Lato",
        "font-size": 5.5
       },
       "h4": {
        "color": "c5cc3653-2ee1-402a-aba2-7caae1da4f6c",
        "font-family": "Lato",
        "font-size": 5
       },
       "h5": {
        "font-family": "Lato"
       },
       "h6": {
        "font-family": "Lato"
       },
       "h7": {
        "font-family": "Lato"
       },
       "li": {
        "color": "50f92c45-a630-455b-aec3-788680ec7410",
        "font-size": 3.25
       },
       "pre": {
        "font-family": "Anonymous Pro",
        "font-size": 4
       }
      },
      "text-base": {
       "color": "19cc588f-0593-49c9-9f4b-e4d7cc113b1c",
       "font-family": "Lato",
       "font-size": 4
      }
     }
    }
   }
  }
 },
 "nbformat": 4,
 "nbformat_minor": 1
}
